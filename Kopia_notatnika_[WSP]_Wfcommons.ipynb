{
 "cells": [
  {
   "cell_type": "code",
   "execution_count": null,
   "id": "DXpM7fF5gN32",
   "metadata": {
    "id": "DXpM7fF5gN32"
   },
   "outputs": [],
   "source": []
  },
  {
   "cell_type": "code",
   "execution_count": 13,
   "id": "omCm46HZgPKi",
   "metadata": {
    "id": "omCm46HZgPKi"
   },
   "outputs": [],
   "source": [
    "!pip install -q pygraphviz"
   ]
  },
  {
   "cell_type": "code",
   "execution_count": 14,
   "id": "UihtvMz3f9UC",
   "metadata": {
    "id": "UihtvMz3f9UC"
   },
   "outputs": [],
   "source": [
    "!pip install -q wfcommons"
   ]
  },
  {
   "cell_type": "code",
   "execution_count": 15,
   "id": "41bc8a0a",
   "metadata": {},
   "outputs": [],
   "source": [
    "!pip install -q parse"
   ]
  },
  {
   "cell_type": "code",
   "execution_count": 16,
   "id": "1a32b4a6",
   "metadata": {},
   "outputs": [],
   "source": [
    "!pip install -q dimod"
   ]
  },
  {
   "cell_type": "code",
   "execution_count": 17,
   "id": "62ed00c3",
   "metadata": {},
   "outputs": [],
   "source": [
    "!pip install -q dwave-ocean-sdk\n"
   ]
  },
  {
   "cell_type": "code",
   "execution_count": 18,
   "id": "62f9a49f",
   "metadata": {
    "id": "62f9a49f",
    "pycharm": {
     "is_executing": true
    }
   },
   "outputs": [],
   "source": [
    "from wfcommons.wfchef.recipes import *\n",
    "from wfcommons.wfchef.utils import *\n",
    "from wfcommons import WorkflowGenerator\n",
    "import networkx as nx\n",
    "from networkx.drawing.nx_agraph import graphviz_layout\n",
    "import matplotlib.pyplot as plt\n",
    "import requests\n",
    "from pprint import pprint\n",
    "\n",
    "from typing import List"
   ]
  },
  {
   "cell_type": "markdown",
   "id": "ZSbP4M2tgopN",
   "metadata": {
    "id": "ZSbP4M2tgopN"
   },
   "source": [
    "# The first option is to generate a synthetic workflow based on some predefined patterns\n",
    "e.g., BlastRecipe, BwaRecipe, CyclesRecipe, EpigenomicsRecipe, GenomeRecipe, MontageRecipe, SeismologyRecipe, SoykbRecipe, SrasearchRecipe. See [here](https://wfcommons.org/generator) and [here](https://github.com/wfcommons/wfcommons/tree/438983117dc9ccf8b642339d81edef2ae992e34d/wfcommons/wfgen).\n",
    "\n",
    "-- issue: the machines field won't be filled (it provides only jobs)\n",
    "\n",
    "\n",
    "\n"
   ]
  },
  {
   "cell_type": "code",
   "execution_count": 19,
   "id": "4743c37b",
   "metadata": {
    "id": "4743c37b",
    "pycharm": {
     "is_executing": true
    }
   },
   "outputs": [],
   "source": [
    "# TASKS_NUM = 25\n",
    "# generator = WorkflowGenerator(SrasearchRecipe.from_num_tasks(TASKS_NUM))\n",
    "# workflow = generator.build_workflow()\n",
    "# DAG_synthetic = workflow.to_nx_digraph()\n",
    "# workflow.write_json('srasearch-workflow.json')"
   ]
  },
  {
   "cell_type": "code",
   "execution_count": null,
   "id": "jmhzVQ_47bMH",
   "metadata": {
    "id": "jmhzVQ_47bMH",
    "pycharm": {
     "is_executing": true
    }
   },
   "outputs": [],
   "source": []
  },
  {
   "cell_type": "code",
   "execution_count": 20,
   "id": "HbGxVp0XkWku",
   "metadata": {
    "id": "HbGxVp0XkWku",
    "pycharm": {
     "is_executing": true
    }
   },
   "outputs": [],
   "source": [
    "def display_graph(graph):\n",
    "  pos = graphviz_layout(graph, prog='dot')\n",
    "  plt.figure(figsize=(14,10)) \n",
    "  nx.draw(graph, pos=pos, node_size=2000, with_labels=True, arrows=True)"
   ]
  },
  {
   "cell_type": "code",
   "execution_count": 21,
   "id": "XYG4dNQrkZ9g",
   "metadata": {
    "colab": {
     "base_uri": "https://localhost:8080/",
     "height": 751
    },
    "id": "XYG4dNQrkZ9g",
    "outputId": "17e526b4-0ccf-4e71-e11a-0fa884d6144b",
    "pycharm": {
     "is_executing": true
    }
   },
   "outputs": [],
   "source": [
    "# display_graph(DAG_synthetic)"
   ]
  },
  {
   "cell_type": "markdown",
   "id": "mqN8LjBchyYF",
   "metadata": {
    "id": "mqN8LjBchyYF"
   },
   "source": [
    "# The second option is to read a workflow from a file\n",
    "There are a few available workflow instances on Github: [pegasus-instances](https://github.com/wfcommons/pegasus-instances) and [makeflow-instances](https://github.com/wfcommons/makeflow-instances). There're json files where jobs are already assigned to machines."
   ]
  },
  {
   "cell_type": "code",
   "execution_count": 22,
   "id": "b4acc22b",
   "metadata": {
    "colab": {
     "base_uri": "https://localhost:8080/"
    },
    "id": "b4acc22b",
    "outputId": "0b56bcad-70b4-4e4b-b593-b2b65645c703",
    "pycharm": {
     "is_executing": true
    }
   },
   "outputs": [
    {
     "name": "stdout",
     "output_type": "stream",
     "text": [
      "{'author': {'email': 'support@workflowhub.org', 'name': 'rafsilva'},\n",
      " 'createdAt': '2020-12-19T23:38:32.986156',\n",
      " 'description': 'Trace generated with WorkflowHub - https://workflowhub.org',\n",
      " 'name': 'workflow-test',\n",
      " 'schemaVersion': '1.3',\n",
      " 'wms': {'name': 'Pegasus', 'url': 'https://pegasus.isi.edu', 'version': '5.0'},\n",
      " 'workflow': {'executedAt': '12-19-20T21:31:53Z',\n",
      "              'machines': [{'architecture': 'x86_64',\n",
      "                            'cpu': {'count': 48,\n",
      "                                    'speed': 1274,\n",
      "                                    'vendor': 'GenuineIntel'},\n",
      "                            'memory': 131795960,\n",
      "                            'nodeName': 'worker-4',\n",
      "                            'release': '4.15.0-121-generic',\n",
      "                            'system': 'linux'}],\n",
      "              'makespan': 3488.0,\n",
      "              'tasks': [{'avgCPU': 6.1398,\n",
      "                         'category': 'bowtie2-build',\n",
      "                         'children': ['bowtie2_ID0000003',\n",
      "                                      'bowtie2_ID0000013',\n",
      "                                      'bowtie2_ID0000005',\n",
      "                                      'bowtie2_ID0000015',\n",
      "                                      'bowtie2_ID0000021',\n",
      "                                      'bowtie2_ID0000011',\n",
      "                                      'bowtie2_ID0000007',\n",
      "                                      'bowtie2_ID0000017',\n",
      "                                      'bowtie2_ID0000009',\n",
      "                                      'bowtie2_ID0000019'],\n",
      "                         'command': {'arguments': ['reference.fna',\n",
      "                                                   'reference'],\n",
      "                                     'program': 'bowtie2-build'},\n",
      "                         'files': [{'link': 'output',\n",
      "                                    'name': 'reference.rev.1.bt2',\n",
      "                                    'size': 4226858},\n",
      "                                   {'link': 'output',\n",
      "                                    'name': 'reference.2.bt2',\n",
      "                                    'size': 24280},\n",
      "                                   {'link': 'output',\n",
      "                                    'name': 'reference.4.bt2',\n",
      "                                    'size': 24273},\n",
      "                                   {'link': 'output',\n",
      "                                    'name': 'reference.3.bt2',\n",
      "                                    'size': 17},\n",
      "                                   {'link': 'output',\n",
      "                                    'name': 'reference.1.bt2',\n",
      "                                    'size': 4226858},\n",
      "                                   {'link': 'output',\n",
      "                                    'name': 'reference.rev.2.bt2',\n",
      "                                    'size': 24280},\n",
      "                                   {'link': 'input',\n",
      "                                    'name': 'reference.fna',\n",
      "                                    'size': 98721}],\n",
      "                         'id': 'ID0000001',\n",
      "                         'machine': 'worker-4',\n",
      "                         'memory': 94720,\n",
      "                         'name': 'bowtie2-build_ID0000001',\n",
      "                         'parents': [],\n",
      "                         'priority': 20,\n",
      "                         'runtime': 6.352,\n",
      "                         'type': 'compute'},\n",
      "                        {'avgCPU': 3.5286,\n",
      "                         'category': 'fasterq-dump',\n",
      "                         'children': ['bowtie2_ID0000003'],\n",
      "                         'command': {'arguments': ['--split-files',\n",
      "                                                   'SRR3152141'],\n",
      "                                     'program': 'fasterq-dump'},\n",
      "                         'files': [{'link': 'output',\n",
      "                                    'name': 'SRR3152141_2.fastq',\n",
      "                                    'size': 734761744},\n",
      "                                   {'link': 'output',\n",
      "                                    'name': 'SRR3152141_1.fastq',\n",
      "                                    'size': 734761744}],\n",
      "                         'id': 'ID0000002',\n",
      "                         'machine': 'worker-4',\n",
      "                         'memory': 324392,\n",
      "                         'name': 'fasterq-dump_ID0000002',\n",
      "                         'parents': [],\n",
      "                         'priority': 20,\n",
      "                         'runtime': 896.867,\n",
      "                         'type': 'compute'},\n",
      "                        {'avgCPU': 103.8255,\n",
      "                         'category': 'bowtie2',\n",
      "                         'children': ['merge_ID0000022'],\n",
      "                         'command': {'arguments': ['SRR3152141'],\n",
      "                                     'program': 'bowtie2'},\n",
      "                         'files': [{'link': 'input',\n",
      "                                    'name': 'reference.rev.1.bt2',\n",
      "                                    'size': 4226858},\n",
      "                                   {'link': 'input',\n",
      "                                    'name': 'reference.2.bt2',\n",
      "                                    'size': 24280},\n",
      "                                   {'link': 'input',\n",
      "                                    'name': 'reference.4.bt2',\n",
      "                                    'size': 24273},\n",
      "                                   {'link': 'input',\n",
      "                                    'name': 'reference.3.bt2',\n",
      "                                    'size': 17},\n",
      "                                   {'link': 'output',\n",
      "                                    'name': 'SRR3152141.bam',\n",
      "                                    'size': 316},\n",
      "                                   {'link': 'input',\n",
      "                                    'name': 'SRR3152141_1.fastq',\n",
      "                                    'size': 734761744},\n",
      "                                   {'link': 'input',\n",
      "                                    'name': 'reference.1.bt2',\n",
      "                                    'size': 4226858},\n",
      "                                   {'link': 'output',\n",
      "                                    'name': 'SRR3152141.bam.bai',\n",
      "                                    'size': 24},\n",
      "                                   {'link': 'input',\n",
      "                                    'name': 'reference.rev.2.bt2',\n",
      "                                    'size': 24280},\n",
      "                                   {'link': 'input',\n",
      "                                    'name': 'SRR3152141_2.fastq',\n",
      "                                    'size': 734761744}],\n",
      "                         'id': 'ID0000003',\n",
      "                         'machine': 'worker-4',\n",
      "                         'memory': 27096,\n",
      "                         'name': 'bowtie2_ID0000003',\n",
      "                         'parents': ['bowtie2-build_ID0000001',\n",
      "                                     'fasterq-dump_ID0000002'],\n",
      "                         'priority': 30,\n",
      "                         'runtime': 54.137,\n",
      "                         'type': 'compute'},\n",
      "                        {'avgCPU': 3.4026,\n",
      "                         'category': 'fasterq-dump',\n",
      "                         'children': ['bowtie2_ID0000005'],\n",
      "                         'command': {'arguments': ['--split-files',\n",
      "                                                   'SRR3152151'],\n",
      "                                     'program': 'fasterq-dump'},\n",
      "                         'files': [{'link': 'output',\n",
      "                                    'name': 'SRR3152151_1.fastq',\n",
      "                                    'size': 345787144},\n",
      "                                   {'link': 'output',\n",
      "                                    'name': 'SRR3152151_2.fastq',\n",
      "                                    'size': 345787144}],\n",
      "                         'id': 'ID0000004',\n",
      "                         'machine': 'worker-4',\n",
      "                         'memory': 187340,\n",
      "                         'name': 'fasterq-dump_ID0000004',\n",
      "                         'parents': [],\n",
      "                         'priority': 20,\n",
      "                         'runtime': 452.479,\n",
      "                         'type': 'compute'},\n",
      "                        {'avgCPU': 59.9327,\n",
      "                         'category': 'bowtie2',\n",
      "                         'children': ['merge_ID0000022'],\n",
      "                         'command': {'arguments': ['SRR3152151'],\n",
      "                                     'program': 'bowtie2'},\n",
      "                         'files': [{'link': 'input',\n",
      "                                    'name': 'reference.rev.1.bt2',\n",
      "                                    'size': 4226858},\n",
      "                                   {'link': 'input',\n",
      "                                    'name': 'reference.2.bt2',\n",
      "                                    'size': 24280},\n",
      "                                   {'link': 'output',\n",
      "                                    'name': 'SRR3152151.bam.bai',\n",
      "                                    'size': 24},\n",
      "                                   {'link': 'input',\n",
      "                                    'name': 'reference.4.bt2',\n",
      "                                    'size': 24273},\n",
      "                                   {'link': 'input',\n",
      "                                    'name': 'reference.3.bt2',\n",
      "                                    'size': 17},\n",
      "                                   {'link': 'input',\n",
      "                                    'name': 'reference.1.bt2',\n",
      "                                    'size': 4226858},\n",
      "                                   {'link': 'output',\n",
      "                                    'name': 'SRR3152151.bam',\n",
      "                                    'size': 316},\n",
      "                                   {'link': 'input',\n",
      "                                    'name': 'SRR3152151_1.fastq',\n",
      "                                    'size': 345787144},\n",
      "                                   {'link': 'input',\n",
      "                                    'name': 'SRR3152151_2.fastq',\n",
      "                                    'size': 345787144},\n",
      "                                   {'link': 'input',\n",
      "                                    'name': 'reference.rev.2.bt2',\n",
      "                                    'size': 24280}],\n",
      "                         'id': 'ID0000005',\n",
      "                         'machine': 'worker-4',\n",
      "                         'memory': 27176,\n",
      "                         'name': 'bowtie2_ID0000005',\n",
      "                         'parents': ['bowtie2-build_ID0000001',\n",
      "                                     'fasterq-dump_ID0000004'],\n",
      "                         'priority': 30,\n",
      "                         'runtime': 48.456,\n",
      "                         'type': 'compute'},\n",
      "                        {'avgCPU': 3.476,\n",
      "                         'category': 'fasterq-dump',\n",
      "                         'children': ['bowtie2_ID0000007'],\n",
      "                         'command': {'arguments': ['--split-files',\n",
      "                                                   'SRR3152142'],\n",
      "                                     'program': 'fasterq-dump'},\n",
      "                         'files': [{'link': 'output',\n",
      "                                    'name': 'SRR3152142_2.fastq',\n",
      "                                    'size': 489999184},\n",
      "                                   {'link': 'output',\n",
      "                                    'name': 'SRR3152142_1.fastq',\n",
      "                                    'size': 489999184}],\n",
      "                         'id': 'ID0000006',\n",
      "                         'machine': 'worker-4',\n",
      "                         'memory': 255192,\n",
      "                         'name': 'fasterq-dump_ID0000006',\n",
      "                         'parents': [],\n",
      "                         'priority': 20,\n",
      "                         'runtime': 620.62,\n",
      "                         'type': 'compute'},\n",
      "                        {'avgCPU': 68.6461,\n",
      "                         'category': 'bowtie2',\n",
      "                         'children': ['merge_ID0000022'],\n",
      "                         'command': {'arguments': ['SRR3152142'],\n",
      "                                     'program': 'bowtie2'},\n",
      "                         'files': [{'link': 'input',\n",
      "                                    'name': 'reference.rev.1.bt2',\n",
      "                                    'size': 4226858},\n",
      "                                   {'link': 'input',\n",
      "                                    'name': 'reference.2.bt2',\n",
      "                                    'size': 24280},\n",
      "                                   {'link': 'input',\n",
      "                                    'name': 'SRR3152142_1.fastq',\n",
      "                                    'size': 489999184},\n",
      "                                   {'link': 'input',\n",
      "                                    'name': 'reference.4.bt2',\n",
      "                                    'size': 24273},\n",
      "                                   {'link': 'input',\n",
      "                                    'name': 'reference.3.bt2',\n",
      "                                    'size': 17},\n",
      "                                   {'link': 'output',\n",
      "                                    'name': 'SRR3152142.bam.bai',\n",
      "                                    'size': 24},\n",
      "                                   {'link': 'input',\n",
      "                                    'name': 'reference.1.bt2',\n",
      "                                    'size': 4226858},\n",
      "                                   {'link': 'output',\n",
      "                                    'name': 'SRR3152142.bam',\n",
      "                                    'size': 316},\n",
      "                                   {'link': 'input',\n",
      "                                    'name': 'SRR3152142_2.fastq',\n",
      "                                    'size': 489999184},\n",
      "                                   {'link': 'input',\n",
      "                                    'name': 'reference.rev.2.bt2',\n",
      "                                    'size': 24280}],\n",
      "                         'id': 'ID0000007',\n",
      "                         'machine': 'worker-4',\n",
      "                         'memory': 25480,\n",
      "                         'name': 'bowtie2_ID0000007',\n",
      "                         'parents': ['bowtie2-build_ID0000001',\n",
      "                                     'fasterq-dump_ID0000006'],\n",
      "                         'priority': 30,\n",
      "                         'runtime': 57.24,\n",
      "                         'type': 'compute'},\n",
      "                        {'avgCPU': 3.1225,\n",
      "                         'category': 'fasterq-dump',\n",
      "                         'children': ['bowtie2_ID0000009'],\n",
      "                         'command': {'arguments': ['--split-files',\n",
      "                                                   'SRR3152143'],\n",
      "                                     'program': 'fasterq-dump'},\n",
      "                         'files': [{'link': 'output',\n",
      "                                    'name': 'SRR3152143_2.fastq',\n",
      "                                    'size': 277305024},\n",
      "                                   {'link': 'output',\n",
      "                                    'name': 'SRR3152143_1.fastq',\n",
      "                                    'size': 277305024}],\n",
      "                         'id': 'ID0000008',\n",
      "                         'machine': 'worker-4',\n",
      "                         'memory': 172556,\n",
      "                         'name': 'fasterq-dump_ID0000008',\n",
      "                         'parents': [],\n",
      "                         'priority': 20,\n",
      "                         'runtime': 419.761,\n",
      "                         'type': 'compute'},\n",
      "                        {'avgCPU': 50.1071,\n",
      "                         'category': 'bowtie2',\n",
      "                         'children': ['merge_ID0000022'],\n",
      "                         'command': {'arguments': ['SRR3152143'],\n",
      "                                     'program': 'bowtie2'},\n",
      "                         'files': [{'link': 'input',\n",
      "                                    'name': 'reference.rev.1.bt2',\n",
      "                                    'size': 4226858},\n",
      "                                   {'link': 'input',\n",
      "                                    'name': 'reference.2.bt2',\n",
      "                                    'size': 24280},\n",
      "                                   {'link': 'output',\n",
      "                                    'name': 'SRR3152143.bam.bai',\n",
      "                                    'size': 24},\n",
      "                                   {'link': 'input',\n",
      "                                    'name': 'reference.4.bt2',\n",
      "                                    'size': 24273},\n",
      "                                   {'link': 'input',\n",
      "                                    'name': 'reference.3.bt2',\n",
      "                                    'size': 17},\n",
      "                                   {'link': 'input',\n",
      "                                    'name': 'SRR3152143_1.fastq',\n",
      "                                    'size': 277305024},\n",
      "                                   {'link': 'input',\n",
      "                                    'name': 'SRR3152143_2.fastq',\n",
      "                                    'size': 277305024},\n",
      "                                   {'link': 'input',\n",
      "                                    'name': 'reference.1.bt2',\n",
      "                                    'size': 4226858},\n",
      "                                   {'link': 'output',\n",
      "                                    'name': 'SRR3152143.bam',\n",
      "                                    'size': 316},\n",
      "                                   {'link': 'input',\n",
      "                                    'name': 'reference.rev.2.bt2',\n",
      "                                    'size': 24280}],\n",
      "                         'id': 'ID0000009',\n",
      "                         'machine': 'worker-4',\n",
      "                         'memory': 25488,\n",
      "                         'name': 'bowtie2_ID0000009',\n",
      "                         'parents': ['bowtie2-build_ID0000001',\n",
      "                                     'fasterq-dump_ID0000008'],\n",
      "                         'priority': 30,\n",
      "                         'runtime': 44.824,\n",
      "                         'type': 'compute'},\n",
      "                        {'avgCPU': 5.2764,\n",
      "                         'category': 'fasterq-dump',\n",
      "                         'children': ['bowtie2_ID0000011'],\n",
      "                         'command': {'arguments': ['--split-files',\n",
      "                                                   'SRR3177945'],\n",
      "                                     'program': 'fasterq-dump'},\n",
      "                         'files': [{'link': 'output',\n",
      "                                    'name': 'SRR3177945_1.fastq',\n",
      "                                    'size': 646024704},\n",
      "                                   {'link': 'output',\n",
      "                                    'name': 'SRR3177945_2.fastq',\n",
      "                                    'size': 646024704}],\n",
      "                         'id': 'ID0000010',\n",
      "                         'machine': 'worker-4',\n",
      "                         'memory': 323468,\n",
      "                         'name': 'fasterq-dump_ID0000010',\n",
      "                         'parents': [],\n",
      "                         'priority': 20,\n",
      "                         'runtime': 647.983,\n",
      "                         'type': 'compute'},\n",
      "                        {'avgCPU': 115.6943,\n",
      "                         'category': 'bowtie2',\n",
      "                         'children': ['merge_ID0000022'],\n",
      "                         'command': {'arguments': ['SRR3177945'],\n",
      "                                     'program': 'bowtie2'},\n",
      "                         'files': [{'link': 'input',\n",
      "                                    'name': 'reference.rev.1.bt2',\n",
      "                                    'size': 4226858},\n",
      "                                   {'link': 'input',\n",
      "                                    'name': 'reference.2.bt2',\n",
      "                                    'size': 24280},\n",
      "                                   {'link': 'output',\n",
      "                                    'name': 'SRR3177945.bam',\n",
      "                                    'size': 316},\n",
      "                                   {'link': 'input',\n",
      "                                    'name': 'reference.4.bt2',\n",
      "                                    'size': 24273},\n",
      "                                   {'link': 'input',\n",
      "                                    'name': 'reference.3.bt2',\n",
      "                                    'size': 17},\n",
      "                                   {'link': 'input',\n",
      "                                    'name': 'SRR3177945_1.fastq',\n",
      "                                    'size': 646024704},\n",
      "                                   {'link': 'input',\n",
      "                                    'name': 'reference.1.bt2',\n",
      "                                    'size': 4226858},\n",
      "                                   {'link': 'input',\n",
      "                                    'name': 'SRR3177945_2.fastq',\n",
      "                                    'size': 646024704},\n",
      "                                   {'link': 'output',\n",
      "                                    'name': 'SRR3177945.bam.bai',\n",
      "                                    'size': 24},\n",
      "                                   {'link': 'input',\n",
      "                                    'name': 'reference.rev.2.bt2',\n",
      "                                    'size': 24280}],\n",
      "                         'id': 'ID0000011',\n",
      "                         'machine': 'worker-4',\n",
      "                         'memory': 25484,\n",
      "                         'name': 'bowtie2_ID0000011',\n",
      "                         'parents': ['bowtie2-build_ID0000001',\n",
      "                                     'fasterq-dump_ID0000010'],\n",
      "                         'priority': 30,\n",
      "                         'runtime': 43.347,\n",
      "                         'type': 'compute'},\n",
      "                        {'avgCPU': 3.4294,\n",
      "                         'category': 'fasterq-dump',\n",
      "                         'children': ['bowtie2_ID0000013'],\n",
      "                         'command': {'arguments': ['--split-files',\n",
      "                                                   'SRR3152147'],\n",
      "                                     'program': 'fasterq-dump'},\n",
      "                         'files': [{'link': 'output',\n",
      "                                    'name': 'SRR3152147_2.fastq',\n",
      "                                    'size': 418891784},\n",
      "                                   {'link': 'output',\n",
      "                                    'name': 'SRR3152147_1.fastq',\n",
      "                                    'size': 418891784}],\n",
      "                         'id': 'ID0000012',\n",
      "                         'machine': 'worker-4',\n",
      "                         'memory': 229052,\n",
      "                         'name': 'fasterq-dump_ID0000012',\n",
      "                         'parents': [],\n",
      "                         'priority': 20,\n",
      "                         'runtime': 543.883,\n",
      "                         'type': 'compute'},\n",
      "                        {'avgCPU': 71.1682,\n",
      "                         'category': 'bowtie2',\n",
      "                         'children': ['merge_ID0000022'],\n",
      "                         'command': {'arguments': ['SRR3152147'],\n",
      "                                     'program': 'bowtie2'},\n",
      "                         'files': [{'link': 'input',\n",
      "                                    'name': 'reference.rev.1.bt2',\n",
      "                                    'size': 4226858},\n",
      "                                   {'link': 'input',\n",
      "                                    'name': 'reference.2.bt2',\n",
      "                                    'size': 24280},\n",
      "                                   {'link': 'input',\n",
      "                                    'name': 'SRR3152147_1.fastq',\n",
      "                                    'size': 418891784},\n",
      "                                   {'link': 'input',\n",
      "                                    'name': 'SRR3152147_2.fastq',\n",
      "                                    'size': 418891784},\n",
      "                                   {'link': 'output',\n",
      "                                    'name': 'SRR3152147.bam.bai',\n",
      "                                    'size': 24},\n",
      "                                   {'link': 'input',\n",
      "                                    'name': 'reference.4.bt2',\n",
      "                                    'size': 24273},\n",
      "                                   {'link': 'input',\n",
      "                                    'name': 'reference.3.bt2',\n",
      "                                    'size': 17},\n",
      "                                   {'link': 'output',\n",
      "                                    'name': 'SRR3152147.bam',\n",
      "                                    'size': 316},\n",
      "                                   {'link': 'input',\n",
      "                                    'name': 'reference.1.bt2',\n",
      "                                    'size': 4226858},\n",
      "                                   {'link': 'input',\n",
      "                                    'name': 'reference.rev.2.bt2',\n",
      "                                    'size': 24280}],\n",
      "                         'id': 'ID0000013',\n",
      "                         'machine': 'worker-4',\n",
      "                         'memory': 25528,\n",
      "                         'name': 'bowtie2_ID0000013',\n",
      "                         'parents': ['bowtie2-build_ID0000001',\n",
      "                                     'fasterq-dump_ID0000012'],\n",
      "                         'priority': 30,\n",
      "                         'runtime': 47.562,\n",
      "                         'type': 'compute'},\n",
      "                        {'avgCPU': 2.909,\n",
      "                         'category': 'fasterq-dump',\n",
      "                         'children': ['bowtie2_ID0000015'],\n",
      "                         'command': {'arguments': ['--split-files',\n",
      "                                                   'SRR3152152'],\n",
      "                                     'program': 'fasterq-dump'},\n",
      "                         'files': [{'link': 'output',\n",
      "                                    'name': 'SRR3152152_2.fastq',\n",
      "                                    'size': 247705800},\n",
      "                                   {'link': 'output',\n",
      "                                    'name': 'SRR3152152_1.fastq',\n",
      "                                    'size': 247705800}],\n",
      "                         'id': 'ID0000014',\n",
      "                         'machine': 'worker-4',\n",
      "                         'memory': 160640,\n",
      "                         'name': 'fasterq-dump_ID0000014',\n",
      "                         'parents': [],\n",
      "                         'priority': 20,\n",
      "                         'runtime': 397.278,\n",
      "                         'type': 'compute'},\n",
      "                        {'avgCPU': 63.0505,\n",
      "                         'category': 'bowtie2',\n",
      "                         'children': ['merge_ID0000022'],\n",
      "                         'command': {'arguments': ['SRR3152152'],\n",
      "                                     'program': 'bowtie2'},\n",
      "                         'files': [{'link': 'input',\n",
      "                                    'name': 'reference.rev.1.bt2',\n",
      "                                    'size': 4226858},\n",
      "                                   {'link': 'input',\n",
      "                                    'name': 'reference.2.bt2',\n",
      "                                    'size': 24280},\n",
      "                                   {'link': 'input',\n",
      "                                    'name': 'SRR3152152_2.fastq',\n",
      "                                    'size': 247705800},\n",
      "                                   {'link': 'output',\n",
      "                                    'name': 'SRR3152152.bam.bai',\n",
      "                                    'size': 24},\n",
      "                                   {'link': 'input',\n",
      "                                    'name': 'reference.4.bt2',\n",
      "                                    'size': 24273},\n",
      "                                   {'link': 'input',\n",
      "                                    'name': 'reference.3.bt2',\n",
      "                                    'size': 17},\n",
      "                                   {'link': 'input',\n",
      "                                    'name': 'SRR3152152_1.fastq',\n",
      "                                    'size': 247705800},\n",
      "                                   {'link': 'input',\n",
      "                                    'name': 'reference.1.bt2',\n",
      "                                    'size': 4226858},\n",
      "                                   {'link': 'input',\n",
      "                                    'name': 'reference.rev.2.bt2',\n",
      "                                    'size': 24280},\n",
      "                                   {'link': 'output',\n",
      "                                    'name': 'SRR3152152.bam',\n",
      "                                    'size': 315}],\n",
      "                         'id': 'ID0000015',\n",
      "                         'machine': 'worker-4',\n",
      "                         'memory': 25560,\n",
      "                         'name': 'bowtie2_ID0000015',\n",
      "                         'parents': ['bowtie2-build_ID0000001',\n",
      "                                     'fasterq-dump_ID0000014'],\n",
      "                         'priority': 30,\n",
      "                         'runtime': 31.903,\n",
      "                         'type': 'compute'},\n",
      "                        {'avgCPU': 3.9508,\n",
      "                         'category': 'fasterq-dump',\n",
      "                         'children': ['bowtie2_ID0000017'],\n",
      "                         'command': {'arguments': ['--split-files',\n",
      "                                                   'SRR3152148'],\n",
      "                                     'program': 'fasterq-dump'},\n",
      "                         'files': [{'link': 'output',\n",
      "                                    'name': 'SRR3152148_1.fastq',\n",
      "                                    'size': 704075704},\n",
      "                                   {'link': 'output',\n",
      "                                    'name': 'SRR3152148_2.fastq',\n",
      "                                    'size': 704075704}],\n",
      "                         'id': 'ID0000016',\n",
      "                         'machine': 'worker-4',\n",
      "                         'memory': 324192,\n",
      "                         'name': 'fasterq-dump_ID0000016',\n",
      "                         'parents': [],\n",
      "                         'priority': 20,\n",
      "                         'runtime': 839.484,\n",
      "                         'type': 'compute'},\n",
      "                        {'avgCPU': 85.4829,\n",
      "                         'category': 'bowtie2',\n",
      "                         'children': ['merge_ID0000022'],\n",
      "                         'command': {'arguments': ['SRR3152148'],\n",
      "                                     'program': 'bowtie2'},\n",
      "                         'files': [{'link': 'input',\n",
      "                                    'name': 'reference.rev.1.bt2',\n",
      "                                    'size': 4226858},\n",
      "                                   {'link': 'input',\n",
      "                                    'name': 'reference.2.bt2',\n",
      "                                    'size': 24280},\n",
      "                                   {'link': 'input',\n",
      "                                    'name': 'SRR3152148_2.fastq',\n",
      "                                    'size': 704075704},\n",
      "                                   {'link': 'input',\n",
      "                                    'name': 'reference.4.bt2',\n",
      "                                    'size': 24273},\n",
      "                                   {'link': 'input',\n",
      "                                    'name': 'reference.3.bt2',\n",
      "                                    'size': 17},\n",
      "                                   {'link': 'output',\n",
      "                                    'name': 'SRR3152148.bam.bai',\n",
      "                                    'size': 24},\n",
      "                                   {'link': 'output',\n",
      "                                    'name': 'SRR3152148.bam',\n",
      "                                    'size': 316},\n",
      "                                   {'link': 'input',\n",
      "                                    'name': 'SRR3152148_1.fastq',\n",
      "                                    'size': 704075704},\n",
      "                                   {'link': 'input',\n",
      "                                    'name': 'reference.1.bt2',\n",
      "                                    'size': 4226858},\n",
      "                                   {'link': 'input',\n",
      "                                    'name': 'reference.rev.2.bt2',\n",
      "                                    'size': 24280}],\n",
      "                         'id': 'ID0000017',\n",
      "                         'machine': 'worker-4',\n",
      "                         'memory': 25532,\n",
      "                         'name': 'bowtie2_ID0000017',\n",
      "                         'parents': ['bowtie2-build_ID0000001',\n",
      "                                     'fasterq-dump_ID0000016'],\n",
      "                         'priority': 30,\n",
      "                         'runtime': 67.658,\n",
      "                         'type': 'compute'},\n",
      "                        {'avgCPU': 3.7355,\n",
      "                         'category': 'fasterq-dump',\n",
      "                         'children': ['bowtie2_ID0000019'],\n",
      "                         'command': {'arguments': ['--split-files',\n",
      "                                                   'SRR3152150'],\n",
      "                                     'program': 'fasterq-dump'},\n",
      "                         'files': [{'link': 'output',\n",
      "                                    'name': 'SRR3152150_1.fastq',\n",
      "                                    'size': 581965744},\n",
      "                                   {'link': 'output',\n",
      "                                    'name': 'SRR3152150_2.fastq',\n",
      "                                    'size': 581965744}],\n",
      "                         'id': 'ID0000018',\n",
      "                         'machine': 'worker-4',\n",
      "                         'memory': 303908,\n",
      "                         'name': 'fasterq-dump_ID0000018',\n",
      "                         'parents': [],\n",
      "                         'priority': 20,\n",
      "                         'runtime': 706.216,\n",
      "                         'type': 'compute'},\n",
      "                        {'avgCPU': 73.1698,\n",
      "                         'category': 'bowtie2',\n",
      "                         'children': ['merge_ID0000022'],\n",
      "                         'command': {'arguments': ['SRR3152150'],\n",
      "                                     'program': 'bowtie2'},\n",
      "                         'files': [{'link': 'input',\n",
      "                                    'name': 'reference.rev.1.bt2',\n",
      "                                    'size': 4226858},\n",
      "                                   {'link': 'input',\n",
      "                                    'name': 'reference.2.bt2',\n",
      "                                    'size': 24280},\n",
      "                                   {'link': 'input',\n",
      "                                    'name': 'reference.4.bt2',\n",
      "                                    'size': 24273},\n",
      "                                   {'link': 'input',\n",
      "                                    'name': 'reference.3.bt2',\n",
      "                                    'size': 17},\n",
      "                                   {'link': 'input',\n",
      "                                    'name': 'SRR3152150_2.fastq',\n",
      "                                    'size': 581965744},\n",
      "                                   {'link': 'input',\n",
      "                                    'name': 'SRR3152150_1.fastq',\n",
      "                                    'size': 581965744},\n",
      "                                   {'link': 'input',\n",
      "                                    'name': 'reference.1.bt2',\n",
      "                                    'size': 4226858},\n",
      "                                   {'link': 'output',\n",
      "                                    'name': 'SRR3152150.bam.bai',\n",
      "                                    'size': 24},\n",
      "                                   {'link': 'output',\n",
      "                                    'name': 'SRR3152150.bam',\n",
      "                                    'size': 316},\n",
      "                                   {'link': 'input',\n",
      "                                    'name': 'reference.rev.2.bt2',\n",
      "                                    'size': 24280}],\n",
      "                         'id': 'ID0000019',\n",
      "                         'machine': 'worker-4',\n",
      "                         'memory': 25592,\n",
      "                         'name': 'bowtie2_ID0000019',\n",
      "                         'parents': ['bowtie2-build_ID0000001',\n",
      "                                     'fasterq-dump_ID0000018'],\n",
      "                         'priority': 30,\n",
      "                         'runtime': 64.871,\n",
      "                         'type': 'compute'},\n",
      "                        {'avgCPU': 4.7528,\n",
      "                         'category': 'fasterq-dump',\n",
      "                         'children': ['bowtie2_ID0000021'],\n",
      "                         'command': {'arguments': ['--split-files',\n",
      "                                                   'SRR3178075'],\n",
      "                                     'program': 'fasterq-dump'},\n",
      "                         'files': [{'link': 'output',\n",
      "                                    'name': 'SRR3178075_1.fastq',\n",
      "                                    'size': 892578704},\n",
      "                                   {'link': 'output',\n",
      "                                    'name': 'SRR3178075_2.fastq',\n",
      "                                    'size': 892578704}],\n",
      "                         'id': 'ID0000020',\n",
      "                         'machine': 'worker-4',\n",
      "                         'memory': 325304,\n",
      "                         'name': 'fasterq-dump_ID0000020',\n",
      "                         'parents': [],\n",
      "                         'priority': 20,\n",
      "                         'runtime': 921.24,\n",
      "                         'type': 'compute'},\n",
      "                        {'avgCPU': 87.862,\n",
      "                         'category': 'bowtie2',\n",
      "                         'children': ['merge_ID0000022'],\n",
      "                         'command': {'arguments': ['SRR3178075'],\n",
      "                                     'program': 'bowtie2'},\n",
      "                         'files': [{'link': 'input',\n",
      "                                    'name': 'reference.rev.1.bt2',\n",
      "                                    'size': 4226858},\n",
      "                                   {'link': 'input',\n",
      "                                    'name': 'reference.2.bt2',\n",
      "                                    'size': 24280},\n",
      "                                   {'link': 'output',\n",
      "                                    'name': 'SRR3178075.bam',\n",
      "                                    'size': 316},\n",
      "                                   {'link': 'input',\n",
      "                                    'name': 'reference.4.bt2',\n",
      "                                    'size': 24273},\n",
      "                                   {'link': 'input',\n",
      "                                    'name': 'reference.3.bt2',\n",
      "                                    'size': 17},\n",
      "                                   {'link': 'input',\n",
      "                                    'name': 'SRR3178075_1.fastq',\n",
      "                                    'size': 892578704},\n",
      "                                   {'link': 'output',\n",
      "                                    'name': 'SRR3178075.bam.bai',\n",
      "                                    'size': 24},\n",
      "                                   {'link': 'input',\n",
      "                                    'name': 'reference.1.bt2',\n",
      "                                    'size': 4226858},\n",
      "                                   {'link': 'input',\n",
      "                                    'name': 'SRR3178075_2.fastq',\n",
      "                                    'size': 892578704},\n",
      "                                   {'link': 'input',\n",
      "                                    'name': 'reference.rev.2.bt2',\n",
      "                                    'size': 24280}],\n",
      "                         'id': 'ID0000021',\n",
      "                         'machine': 'worker-4',\n",
      "                         'memory': 27036,\n",
      "                         'name': 'bowtie2_ID0000021',\n",
      "                         'parents': ['bowtie2-build_ID0000001',\n",
      "                                     'fasterq-dump_ID0000020'],\n",
      "                         'priority': 30,\n",
      "                         'runtime': 84.503,\n",
      "                         'type': 'compute'},\n",
      "                        {'avgCPU': 114.7826,\n",
      "                         'category': 'merge',\n",
      "                         'children': [],\n",
      "                         'command': {'arguments': ['results.tar.gz',\n",
      "                                                   'SRR3152141.bam',\n",
      "                                                   'SRR3152141.bam.bai',\n",
      "                                                   'SRR3152151.bam',\n",
      "                                                   'SRR3152151.bam.bai',\n",
      "                                                   'SRR3152142.bam.bai',\n",
      "                                                   'SRR3152142.bam',\n",
      "                                                   'SRR3152143.bam.bai',\n",
      "                                                   'SRR3152143.bam',\n",
      "                                                   'SRR3177945.bam.bai',\n",
      "                                                   'SRR3177945.bam',\n",
      "                                                   'SRR3152147.bam.bai',\n",
      "                                                   'SRR3152147.bam',\n",
      "                                                   'SRR3152152.bam.bai',\n",
      "                                                   'SRR3152152.bam',\n",
      "                                                   'SRR3152148.bam.bai',\n",
      "                                                   'SRR3152148.bam',\n",
      "                                                   'SRR3152150.bam',\n",
      "                                                   'SRR3152150.bam.bai',\n",
      "                                                   'SRR3178075.bam.bai',\n",
      "                                                   'SRR3178075.bam'],\n",
      "                                     'program': 'merge'},\n",
      "                         'files': [{'link': 'input',\n",
      "                                    'name': 'SRR3178075.bam',\n",
      "                                    'size': 316},\n",
      "                                   {'link': 'input',\n",
      "                                    'name': 'SRR3152147.bam.bai',\n",
      "                                    'size': 24},\n",
      "                                   {'link': 'input',\n",
      "                                    'name': 'SRR3178075.bam.bai',\n",
      "                                    'size': 24},\n",
      "                                   {'link': 'output',\n",
      "                                    'name': 'results.tar.gz',\n",
      "                                    'size': 2412},\n",
      "                                   {'link': 'input',\n",
      "                                    'name': 'SRR3177945.bam.bai',\n",
      "                                    'size': 24},\n",
      "                                   {'link': 'input',\n",
      "                                    'name': 'SRR3152151.bam.bai',\n",
      "                                    'size': 24},\n",
      "                                   {'link': 'input',\n",
      "                                    'name': 'SRR3152142.bam',\n",
      "                                    'size': 316},\n",
      "                                   {'link': 'input',\n",
      "                                    'name': 'SRR3152152.bam',\n",
      "                                    'size': 315},\n",
      "                                   {'link': 'input',\n",
      "                                    'name': 'SRR3177945.bam',\n",
      "                                    'size': 316},\n",
      "                                   {'link': 'input',\n",
      "                                    'name': 'SRR3152152.bam.bai',\n",
      "                                    'size': 24},\n",
      "                                   {'link': 'input',\n",
      "                                    'name': 'SRR3152148.bam.bai',\n",
      "                                    'size': 24},\n",
      "                                   {'link': 'input',\n",
      "                                    'name': 'SRR3152141.bam',\n",
      "                                    'size': 316},\n",
      "                                   {'link': 'input',\n",
      "                                    'name': 'SRR3152142.bam.bai',\n",
      "                                    'size': 24},\n",
      "                                   {'link': 'input',\n",
      "                                    'name': 'SRR3152148.bam',\n",
      "                                    'size': 316},\n",
      "                                   {'link': 'input',\n",
      "                                    'name': 'SRR3152147.bam',\n",
      "                                    'size': 316},\n",
      "                                   {'link': 'input',\n",
      "                                    'name': 'SRR3152150.bam.bai',\n",
      "                                    'size': 24},\n",
      "                                   {'link': 'input',\n",
      "                                    'name': 'SRR3152143.bam.bai',\n",
      "                                    'size': 24},\n",
      "                                   {'link': 'input',\n",
      "                                    'name': 'SRR3152141.bam.bai',\n",
      "                                    'size': 24},\n",
      "                                   {'link': 'input',\n",
      "                                    'name': 'SRR3152151.bam',\n",
      "                                    'size': 316},\n",
      "                                   {'link': 'input',\n",
      "                                    'name': 'SRR3152143.bam',\n",
      "                                    'size': 316},\n",
      "                                   {'link': 'input',\n",
      "                                    'name': 'SRR3152150.bam',\n",
      "                                    'size': 316}],\n",
      "                         'id': 'ID0000022',\n",
      "                         'machine': 'worker-4',\n",
      "                         'memory': 3592,\n",
      "                         'name': 'merge_ID0000022',\n",
      "                         'parents': ['bowtie2_ID0000003',\n",
      "                                     'bowtie2_ID0000005',\n",
      "                                     'bowtie2_ID0000007',\n",
      "                                     'bowtie2_ID0000009',\n",
      "                                     'bowtie2_ID0000011',\n",
      "                                     'bowtie2_ID0000013',\n",
      "                                     'bowtie2_ID0000015',\n",
      "                                     'bowtie2_ID0000017',\n",
      "                                     'bowtie2_ID0000019',\n",
      "                                     'bowtie2_ID0000021'],\n",
      "                         'priority': 40,\n",
      "                         'runtime': 0.115,\n",
      "                         'type': 'compute'}]}}\n"
     ]
    }
   ],
   "source": [
    "url = 'https://raw.githubusercontent.com/wfcommons/pegasus-instances/master/srasearch/chameleon-cloud/srasearch-chameleon-10a-001.json'\n",
    "# url = 'https://raw.githubusercontent.com/wfcommons/pegasus-instances/master/1000genome/chameleon-cloud/1000genome-chameleon-14ch-100k-001.json'\n",
    "resp = requests.get(url)\n",
    "data = json.loads(resp.text)\n",
    "pprint(data)\n",
    "path = 'pegasus-workflow.json'\n",
    "# workflow.write_json(path)\n",
    "with open(path, 'w') as f:\n",
    "    json.dump(data, f)\n",
    "\n"
   ]
  },
  {
   "cell_type": "code",
   "execution_count": 24,
   "id": "3652576e",
   "metadata": {
    "id": "3652576e",
    "pycharm": {
     "is_executing": true
    }
   },
   "outputs": [],
   "source": [
    "DAG_real = create_graph(path)\n",
    "# annotate(DAG) # I thought that this line migth append some data to the DAG, but that's not the case https://github.com/wfcommons/wfcommons/blob/4abe2545998a7b29e65e94f95d7c32d7c9afdc78/wfcommons/wfchef/utils.py"
   ]
  },
  {
   "cell_type": "code",
   "execution_count": 25,
   "id": "800c0ab5",
   "metadata": {
    "id": "800c0ab5",
    "pycharm": {
     "is_executing": true
    }
   },
   "outputs": [],
   "source": [
    "nodes = DAG_real.nodes()"
   ]
  },
  {
   "cell_type": "code",
   "execution_count": 26,
   "id": "6a612e2d",
   "metadata": {
    "id": "6a612e2d",
    "pycharm": {
     "is_executing": true
    }
   },
   "outputs": [],
   "source": [
    "edges = DAG_real.edges()"
   ]
  },
  {
   "cell_type": "code",
   "execution_count": 27,
   "id": "0c394edb",
   "metadata": {
    "id": "0c394edb",
    "pycharm": {
     "is_executing": true
    }
   },
   "outputs": [],
   "source": [
    "in_degrees = DAG_real.in_degree(nodes)\n",
    "out_degrees = DAG_real.out_degree(nodes)"
   ]
  },
  {
   "cell_type": "code",
   "execution_count": 28,
   "id": "b5010194",
   "metadata": {
    "id": "b5010194",
    "pycharm": {
     "is_executing": true
    }
   },
   "outputs": [],
   "source": [
    "nodes_connected_to_source = [node for (node, in_degree) in in_degrees if in_degree == 0]\n",
    "nodes_connected_to_sink = [node for (node, out_degree) in out_degrees if out_degree == 0]"
   ]
  },
  {
   "cell_type": "code",
   "execution_count": 29,
   "id": "2f390ada",
   "metadata": {
    "colab": {
     "base_uri": "https://localhost:8080/"
    },
    "id": "2f390ada",
    "outputId": "9717930e-6f57-4362-ba21-14f44abea641",
    "pycharm": {
     "is_executing": true
    }
   },
   "outputs": [
    {
     "name": "stdout",
     "output_type": "stream",
     "text": [
      "nodes_connected_to_source ['SRC']\n",
      "nodes_connected_to_sink ['DST']\n"
     ]
    }
   ],
   "source": [
    "print('nodes_connected_to_source', nodes_connected_to_source)\n",
    "print('nodes_connected_to_sink', nodes_connected_to_sink)"
   ]
  },
  {
   "cell_type": "code",
   "execution_count": 30,
   "id": "a2260590",
   "metadata": {
    "id": "a2260590",
    "pycharm": {
     "is_executing": true
    }
   },
   "outputs": [],
   "source": [
    "paths = list(nx.all_simple_paths(DAG_real, source='SRC', target='DST'))"
   ]
  },
  {
   "cell_type": "code",
   "execution_count": 31,
   "id": "1e117edb",
   "metadata": {
    "colab": {
     "base_uri": "https://localhost:8080/"
    },
    "id": "1e117edb",
    "outputId": "953d3629-690b-4bad-d7c4-eb9e87389b4f",
    "pycharm": {
     "is_executing": true
    }
   },
   "outputs": [
    {
     "name": "stdout",
     "output_type": "stream",
     "text": [
      "Amount of paths: 20\n"
     ]
    }
   ],
   "source": [
    "paths_amount = len(paths)\n",
    "print(f'Amount of paths: {paths_amount}')"
   ]
  },
  {
   "cell_type": "code",
   "execution_count": 32,
   "id": "b64c2eb1",
   "metadata": {
    "colab": {
     "base_uri": "https://localhost:8080/",
     "height": 751
    },
    "id": "b64c2eb1",
    "outputId": "df599e34-af12-4785-aff6-f0cc22dd833b",
    "pycharm": {
     "is_executing": true
    }
   },
   "outputs": [
    {
     "data": {
      "image/png": "[encoded data removed]",
      "text/plain": [
       "<Figure size 1008x720 with 1 Axes>"
      ]
     },
     "metadata": {},
     "output_type": "display_data"
    }
   ],
   "source": [
    "display_graph(DAG_real)"
   ]
  },
  {
   "cell_type": "markdown",
   "id": "R2URhNb4YVvl",
   "metadata": {
    "id": "R2URhNb4YVvl"
   },
   "source": [
    "So lets get some data :)"
   ]
  },
  {
   "cell_type": "code",
   "execution_count": 33,
   "id": "FD7Z-KBfeEcD",
   "metadata": {
    "id": "FD7Z-KBfeEcD",
    "pycharm": {
     "is_executing": true
    }
   },
   "outputs": [],
   "source": [
    "class Machine(object):\n",
    "  def __init__(self, machine):\n",
    "    self.name = machine.get('nodeName')\n",
    "    self.system = machine.get('system')\n",
    "    self.architecture = machine.get('architecture')\n",
    "    self.release = machine.get('release')\n",
    "    self.cpu = machine.get('cpu')\n",
    "    self.memory = machine.get('memory')\n",
    "  def __repr__(self):\n",
    "    return str(vars(self))\n",
    "\n",
    "  def __str__(self):\n",
    "    return str(vars(self))\n",
    "\n",
    "\n",
    "class Job(object):\n",
    "  def __init__(self, id, name, children, parents, machine, inputs, outputs, runtime, used_memeory, normalized_runtime):\n",
    "    self.id = id\n",
    "    self.name = name\n",
    "    self.children = children\n",
    "    self.parents = parents\n",
    "    self.machine = machine\n",
    "    self.inputs = inputs\n",
    "    self.outputs = outputs\n",
    "    self.runtime = runtime\n",
    "    self.used_memeory = used_memeory\n",
    "    self.normalized_runtime = normalized_runtime\n",
    "\n",
    "\n",
    "  def find_and_set_parents(self, jobs):\n",
    "    parent_jobs = []\n",
    "    for j in jobs:\n",
    "      for p in self.parents:\n",
    "        if p == j.name:\n",
    "          parent_jobs.append(j)\n",
    "    self.parents = parent_jobs\n",
    "\n",
    "  def find_and_set_children(self, jobs):\n",
    "    children_jobs = []\n",
    "    for j in jobs:\n",
    "      for c in self.children:\n",
    "        if c == j.name:\n",
    "          children_jobs.append(j)\n",
    "    self.children = children_jobs\n",
    "\n",
    "\n",
    "  def __repr__(self):\n",
    "    return str(f\"['{self.name}']: on machine '{self.machine.name}' parent: '{[p.name for p in self.parents]}' children: '{[c.name for c in self.children]}'\" )\n",
    "\n",
    "  # def __str__(self):\n",
    "  #   return str(vars(self))\n",
    "\n",
    "class JobBuilder(object):\n",
    "  def __init__(self, job, *, machine_name = None):\n",
    "    self.id = job.get('id')\n",
    "    self.name = job.get('name')\n",
    "    self.category =  job.get('category') \n",
    "    self.children_names = job.get('children') or [] \n",
    "    self.parent_names = job.get('parents') or [] \n",
    "    self.commmand = job['command'].get('program') \n",
    "    self.arguments = job['command'].get('arguments')\n",
    "    files = job.get('files')\n",
    "    if files is None:\n",
    "      self.inputs = []\n",
    "      self.outputs = []\n",
    "    else: \n",
    "      self.inputs = [ (file.get('name'), file.get('size')) for file in files if file.get('link') == 'input']\n",
    "      self.outputs = [ (file.get('name'), file.get('size')) for file in files if file.get('link') == 'output']\n",
    "      \n",
    "    self.avg_cpu_usage = job.get('avgCPU')\n",
    "    self.used_memeory = job.get('memory')\n",
    "    self.priotrity = job.get( 'priority')\n",
    "    self.runtime = job.get('runtime')\n",
    "    self.type = job.get('type')\n",
    "    self.normalized_runtime = 1\n",
    "\n",
    "  def __repr__(self):\n",
    "    return str(vars(self))\n",
    "\n",
    "  def __str__(self):\n",
    "    return str(vars(self))\n",
    "\n",
    "  def set_machine(self, machine : Machine):\n",
    "    self.machine = machine\n",
    "\n",
    "  def build(self) -> Job:\n",
    "    return Job(id = self.id, name = self.name, children = self.children_names, parents = self.parent_names, machine = self.machine, inputs = self.inputs, outputs = self.outputs, runtime = self.runtime, used_memeory = self.used_memeory, normalized_runtime = self.normalized_runtime)"
   ]
  },
  {
   "cell_type": "markdown",
   "id": "JcyZpxrtj1s2",
   "metadata": {
    "id": "JcyZpxrtj1s2"
   },
   "source": []
  },
  {
   "cell_type": "code",
   "execution_count": 34,
   "id": "dF0WHi4SjfE0",
   "metadata": {
    "id": "dF0WHi4SjfE0",
    "pycharm": {
     "is_executing": true
    }
   },
   "outputs": [],
   "source": [
    "json_data = data"
   ]
  },
  {
   "cell_type": "code",
   "execution_count": 35,
   "id": "L1ciwEkGZw4F",
   "metadata": {
    "cellView": "code",
    "colab": {
     "base_uri": "https://localhost:8080/"
    },
    "id": "L1ciwEkGZw4F",
    "outputId": "5d976808-532f-4ab2-8993-f70b63ff6928",
    "pycharm": {
     "is_executing": true
    }
   },
   "outputs": [
    {
     "name": "stdout",
     "output_type": "stream",
     "text": [
      "{'worker-4': {'name': 'worker-4', 'system': 'linux', 'architecture': 'x86_64', 'release': '4.15.0-121-generic', 'cpu': {'count': 48, 'speed': 1274, 'vendor': 'GenuineIntel'}, 'memory': 131795960}}\n"
     ]
    }
   ],
   "source": [
    "#@title Domyślny tekst tytułu\n",
    "machines =  [Machine(machine) for machine in json_data['workflow']['machines']]\n",
    "machines = { machine.name : machine for machine in machines}\n",
    "\n",
    "jobs_b = [ (JobBuilder(job), job['machine']) for job in json_data['workflow']['tasks']]\n",
    "\n",
    "pprint(machines)\n",
    "for job, machine_name in jobs_b:\n",
    "    job.set_machine(machines[machine_name])\n",
    "    job.normalized_runtime = job.runtime / job.machine.cpu['speed'] * job.machine.cpu['count']\n",
    "\n",
    "min_runtime = min(map(lambda x: x[0].normalized_runtime, jobs_b))\n",
    "\n",
    "for j,_ in jobs_b:\n",
    "  j.normalized_runtime /= min_runtime\n",
    "\n",
    "jobs = [job.build() for job, _ in jobs_b]\n",
    "\n",
    "\n",
    "\n",
    "for j in jobs:\n",
    "  j.find_and_set_parents(jobs)\n",
    "  j.find_and_set_children(jobs)\n"
   ]
  },
  {
   "cell_type": "code",
   "execution_count": 36,
   "id": "H2gAe-iPDqGE",
   "metadata": {
    "colab": {
     "base_uri": "https://localhost:8080/"
    },
    "id": "H2gAe-iPDqGE",
    "outputId": "832f60d1-c015-4264-fa30-32b7732dc7c9",
    "pycharm": {
     "is_executing": true
    }
   },
   "outputs": [
    {
     "name": "stdout",
     "output_type": "stream",
     "text": [
      "Jobs: 22\n",
      "Machines: 1\n"
     ]
    }
   ],
   "source": [
    "print(f'Jobs: {len(jobs)}')\n",
    "print(f'Machines: {len(machines)}')"
   ]
  },
  {
   "cell_type": "markdown",
   "id": "gpErdYl5eJWw",
   "metadata": {
    "id": "gpErdYl5eJWw"
   },
   "source": [
    "# Cyfronet Machines\n",
    "\n",
    "Lets define some machines that are available for AGH."
   ]
  },
  {
   "cell_type": "code",
   "execution_count": 37,
   "id": "iJkglYRJZ0wC",
   "metadata": {
    "id": "iJkglYRJZ0wC",
    "pycharm": {
     "is_executing": true
    }
   },
   "outputs": [],
   "source": [
    "base_cpu_hour_price = 0.08\n",
    "base_gpu_hour_price = 5.0\n",
    "gpu_speed_vs_cpu = 100\n",
    "\n",
    "cpus = {'Zeus': 0.25, 'Prometeus': 1 , 'Ares': 1.6}\n",
    "cpus_base_memory = {'Zeus': 2, 'Prometeus': 4 , 'Ares': 8}\n",
    "cpus_more_memory_factor = {'Zeus': 0.2, 'Prometeus': 0.40 , 'Ares': 0.80}\n",
    "\n",
    "\n",
    "gpus = {'Prometeus': 1 , 'Ares': 1.6}\n",
    "gpus_base_memory = {'Prometeus': 4 , 'Ares': 8}\n",
    "gpus_more_memory_factor = {'Prometeus': 0.40 , 'Ares': 0.80}\n",
    "\n",
    "\n",
    "cyfronet_machines = {}\n",
    "for cpu in cpus.keys():\n",
    "  cyfronet_machines[f\"{cpu}Cpu\"] = {\n",
    "      'base_price' :  base_cpu_hour_price,\n",
    "      'base_memory' : cpus_base_memory[cpu],\n",
    "      'memory_cost_multiplayer' : cpus_more_memory_factor[cpu],\n",
    "      'speed': cpus[cpu]\n",
    "  }\n",
    "for gpu in gpus.keys():\n",
    "  cyfronet_machines[f\"{gpu}Gpu\"] = {\n",
    "      'base_price' : base_gpu_hour_price,\n",
    "      'base_memory' : gpus_base_memory[gpu],\n",
    "      'memory_cost_multiplayer' : gpus_more_memory_factor[gpu],\n",
    "      'speed' : gpus[gpu] * gpu_speed_vs_cpu\n",
    "  }\n",
    "\n"
   ]
  },
  {
   "cell_type": "code",
   "execution_count": 38,
   "id": "EeFL5UAHhj0K",
   "metadata": {
    "id": "EeFL5UAHhj0K",
    "pycharm": {
     "is_executing": true
    }
   },
   "outputs": [],
   "source": [
    "import math\n",
    "def calc_cost(machine , job):\n",
    "  if job.used_memeory is not None:\n",
    "    mib_free = 1024 * machine['base_memory']\n",
    "    cost_power = (job.used_memeory - mib_free) // 1024\n",
    "  else:\n",
    "    cost_power = 0\n",
    "  runtime = job.normalized_runtime\n",
    "  return runtime * machine['base_price'] * (1 + machine['memory_cost_multiplayer']* cost_power) / machine['speed']"
   ]
  },
  {
   "cell_type": "code",
   "execution_count": 39,
   "id": "9_Sc0EeohkBI",
   "metadata": {
    "id": "9_Sc0EeohkBI",
    "pycharm": {
     "is_executing": true
    }
   },
   "outputs": [],
   "source": [
    "costs = {}\n",
    "runtimes = {}\n",
    "for machine in cyfronet_machines:\n",
    "  machine_cost = []\n",
    "  machine_runtime = []\n",
    "  for j in jobs:\n",
    "    machine_cost.append(calc_cost(cyfronet_machines[machine], j))\n",
    "    machine_runtime.append( j.normalized_runtime / cyfronet_machines[machine]['speed'])\n",
    "  costs[machine] = machine_cost\n",
    "  runtimes[f\"{machine}Runtime\"] = machine_runtime"
   ]
  },
  {
   "cell_type": "code",
   "execution_count": 40,
   "id": "ZbE8iPJDjJyJ",
   "metadata": {
    "id": "ZbE8iPJDjJyJ",
    "pycharm": {
     "is_executing": true
    }
   },
   "outputs": [],
   "source": [
    "import pandas as pd\n",
    "import numpy as np"
   ]
  },
  {
   "cell_type": "code",
   "execution_count": 41,
   "id": "WV3Nd7_-oOG2",
   "metadata": {
    "colab": {
     "base_uri": "https://localhost:8080/",
     "height": 739
    },
    "id": "WV3Nd7_-oOG2",
    "outputId": "019ba39d-fcde-43b0-e064-c287ae2f183d",
    "pycharm": {
     "is_executing": true
    }
   },
   "outputs": [
    {
     "data": {
      "text/html": [
       "<div>\n",
       "<style scoped>\n",
       "    .dataframe tbody tr th:only-of-type {\n",
       "        vertical-align: middle;\n",
       "    }\n",
       "\n",
       "    .dataframe tbody tr th {\n",
       "        vertical-align: top;\n",
       "    }\n",
       "\n",
       "    .dataframe thead th {\n",
       "        text-align: right;\n",
       "    }\n",
       "</style>\n",
       "<table border=\"1\" class=\"dataframe\">\n",
       "  <thead>\n",
       "    <tr style=\"text-align: right;\">\n",
       "      <th></th>\n",
       "      <th>ZeusCpu</th>\n",
       "      <th>PrometeusCpu</th>\n",
       "      <th>AresCpu</th>\n",
       "      <th>PrometeusGpu</th>\n",
       "      <th>AresGpu</th>\n",
       "    </tr>\n",
       "  </thead>\n",
       "  <tbody>\n",
       "    <tr>\n",
       "      <th>bowtie2-build_ID0000001</th>\n",
       "      <td>335.827478</td>\n",
       "      <td>159.959930</td>\n",
       "      <td>188.350609</td>\n",
       "      <td>99.974957</td>\n",
       "      <td>117.719130</td>\n",
       "    </tr>\n",
       "    <tr>\n",
       "      <th>fasterq-dump_ID0000002</th>\n",
       "      <td>159221.188452</td>\n",
       "      <td>78487.560765</td>\n",
       "      <td>96471.693826</td>\n",
       "      <td>49054.725478</td>\n",
       "      <td>60294.808641</td>\n",
       "    </tr>\n",
       "    <tr>\n",
       "      <th>bowtie2_ID0000003</th>\n",
       "      <td>873.724104</td>\n",
       "      <td>369.073113</td>\n",
       "      <td>362.482522</td>\n",
       "      <td>230.670696</td>\n",
       "      <td>226.551576</td>\n",
       "    </tr>\n",
       "    <tr>\n",
       "      <th>fasterq-dump_ID0000004</th>\n",
       "      <td>46585.664000</td>\n",
       "      <td>22726.249600</td>\n",
       "      <td>27581.546000</td>\n",
       "      <td>14203.906000</td>\n",
       "      <td>17238.466250</td>\n",
       "    </tr>\n",
       "    <tr>\n",
       "      <th>bowtie2_ID0000005</th>\n",
       "      <td>782.037704</td>\n",
       "      <td>330.343513</td>\n",
       "      <td>324.444522</td>\n",
       "      <td>206.464696</td>\n",
       "      <td>202.777826</td>\n",
       "    </tr>\n",
       "    <tr>\n",
       "      <th>fasterq-dump_ID0000006</th>\n",
       "      <td>87037.907478</td>\n",
       "      <td>42741.829565</td>\n",
       "      <td>52293.980870</td>\n",
       "      <td>26713.643478</td>\n",
       "      <td>32683.738043</td>\n",
       "    </tr>\n",
       "    <tr>\n",
       "      <th>bowtie2_ID0000007</th>\n",
       "      <td>860.093217</td>\n",
       "      <td>358.372174</td>\n",
       "      <td>343.440000</td>\n",
       "      <td>223.982609</td>\n",
       "      <td>214.650000</td>\n",
       "    </tr>\n",
       "    <tr>\n",
       "      <th>fasterq-dump_ID0000008</th>\n",
       "      <td>39946.646817</td>\n",
       "      <td>19447.709635</td>\n",
       "      <td>23543.116957</td>\n",
       "      <td>12154.818522</td>\n",
       "      <td>14714.448098</td>\n",
       "    </tr>\n",
       "    <tr>\n",
       "      <th>bowtie2_ID0000009</th>\n",
       "      <td>673.529322</td>\n",
       "      <td>280.637217</td>\n",
       "      <td>268.944000</td>\n",
       "      <td>175.398261</td>\n",
       "      <td>168.090000</td>\n",
       "    </tr>\n",
       "    <tr>\n",
       "      <th>fasterq-dump_ID0000010</th>\n",
       "      <td>114676.087096</td>\n",
       "      <td>56526.656139</td>\n",
       "      <td>69475.046870</td>\n",
       "      <td>35329.160087</td>\n",
       "      <td>43421.904293</td>\n",
       "    </tr>\n",
       "    <tr>\n",
       "      <th>bowtie2_ID0000011</th>\n",
       "      <td>651.335791</td>\n",
       "      <td>271.389913</td>\n",
       "      <td>260.082000</td>\n",
       "      <td>169.618696</td>\n",
       "      <td>162.551250</td>\n",
       "    </tr>\n",
       "    <tr>\n",
       "      <th>fasterq-dump_ID0000012</th>\n",
       "      <td>68406.293148</td>\n",
       "      <td>33522.110470</td>\n",
       "      <td>40909.460435</td>\n",
       "      <td>20951.319043</td>\n",
       "      <td>25568.412772</td>\n",
       "    </tr>\n",
       "    <tr>\n",
       "      <th>bowtie2_ID0000013</th>\n",
       "      <td>714.670748</td>\n",
       "      <td>297.779478</td>\n",
       "      <td>285.372000</td>\n",
       "      <td>186.112174</td>\n",
       "      <td>178.357500</td>\n",
       "    </tr>\n",
       "    <tr>\n",
       "      <th>fasterq-dump_ID0000014</th>\n",
       "      <td>35153.921113</td>\n",
       "      <td>17079.499409</td>\n",
       "      <td>20623.910087</td>\n",
       "      <td>10674.687130</td>\n",
       "      <td>12889.943804</td>\n",
       "    </tr>\n",
       "    <tr>\n",
       "      <th>bowtie2_ID0000015</th>\n",
       "      <td>479.377252</td>\n",
       "      <td>199.740522</td>\n",
       "      <td>191.418000</td>\n",
       "      <td>124.837826</td>\n",
       "      <td>119.636250</td>\n",
       "    </tr>\n",
       "    <tr>\n",
       "      <th>fasterq-dump_ID0000016</th>\n",
       "      <td>149033.959513</td>\n",
       "      <td>73465.799791</td>\n",
       "      <td>90299.278957</td>\n",
       "      <td>45916.124870</td>\n",
       "      <td>56437.049348</td>\n",
       "    </tr>\n",
       "    <tr>\n",
       "      <th>bowtie2_ID0000017</th>\n",
       "      <td>1016.634991</td>\n",
       "      <td>423.597913</td>\n",
       "      <td>405.948000</td>\n",
       "      <td>264.748696</td>\n",
       "      <td>253.717500</td>\n",
       "    </tr>\n",
       "    <tr>\n",
       "      <th>fasterq-dump_ID0000018</th>\n",
       "      <td>117514.342400</td>\n",
       "      <td>57872.865948</td>\n",
       "      <td>71051.470609</td>\n",
       "      <td>36170.541217</td>\n",
       "      <td>44407.169130</td>\n",
       "    </tr>\n",
       "    <tr>\n",
       "      <th>bowtie2_ID0000019</th>\n",
       "      <td>974.757287</td>\n",
       "      <td>406.148870</td>\n",
       "      <td>389.226000</td>\n",
       "      <td>253.843043</td>\n",
       "      <td>243.266250</td>\n",
       "    </tr>\n",
       "    <tr>\n",
       "      <th>fasterq-dump_ID0000020</th>\n",
       "      <td>164060.827826</td>\n",
       "      <td>80876.861217</td>\n",
       "      <td>99413.812174</td>\n",
       "      <td>50548.038261</td>\n",
       "      <td>62133.632609</td>\n",
       "    </tr>\n",
       "    <tr>\n",
       "      <th>bowtie2_ID0000021</th>\n",
       "      <td>1363.804939</td>\n",
       "      <td>576.090017</td>\n",
       "      <td>565.802696</td>\n",
       "      <td>360.056261</td>\n",
       "      <td>353.626685</td>\n",
       "    </tr>\n",
       "    <tr>\n",
       "      <th>merge_ID0000022</th>\n",
       "      <td>0.384000</td>\n",
       "      <td>0.048000</td>\n",
       "      <td>-0.150000</td>\n",
       "      <td>0.030000</td>\n",
       "      <td>-0.093750</td>\n",
       "    </tr>\n",
       "  </tbody>\n",
       "</table>\n",
       "</div>"
      ],
      "text/plain": [
       "                               ZeusCpu  PrometeusCpu       AresCpu  \\\n",
       "bowtie2-build_ID0000001     335.827478    159.959930    188.350609   \n",
       "fasterq-dump_ID0000002   159221.188452  78487.560765  96471.693826   \n",
       "bowtie2_ID0000003           873.724104    369.073113    362.482522   \n",
       "fasterq-dump_ID0000004    46585.664000  22726.249600  27581.546000   \n",
       "bowtie2_ID0000005           782.037704    330.343513    324.444522   \n",
       "fasterq-dump_ID0000006    87037.907478  42741.829565  52293.980870   \n",
       "bowtie2_ID0000007           860.093217    358.372174    343.440000   \n",
       "fasterq-dump_ID0000008    39946.646817  19447.709635  23543.116957   \n",
       "bowtie2_ID0000009           673.529322    280.637217    268.944000   \n",
       "fasterq-dump_ID0000010   114676.087096  56526.656139  69475.046870   \n",
       "bowtie2_ID0000011           651.335791    271.389913    260.082000   \n",
       "fasterq-dump_ID0000012    68406.293148  33522.110470  40909.460435   \n",
       "bowtie2_ID0000013           714.670748    297.779478    285.372000   \n",
       "fasterq-dump_ID0000014    35153.921113  17079.499409  20623.910087   \n",
       "bowtie2_ID0000015           479.377252    199.740522    191.418000   \n",
       "fasterq-dump_ID0000016   149033.959513  73465.799791  90299.278957   \n",
       "bowtie2_ID0000017          1016.634991    423.597913    405.948000   \n",
       "fasterq-dump_ID0000018   117514.342400  57872.865948  71051.470609   \n",
       "bowtie2_ID0000019           974.757287    406.148870    389.226000   \n",
       "fasterq-dump_ID0000020   164060.827826  80876.861217  99413.812174   \n",
       "bowtie2_ID0000021          1363.804939    576.090017    565.802696   \n",
       "merge_ID0000022               0.384000      0.048000     -0.150000   \n",
       "\n",
       "                         PrometeusGpu       AresGpu  \n",
       "bowtie2-build_ID0000001     99.974957    117.719130  \n",
       "fasterq-dump_ID0000002   49054.725478  60294.808641  \n",
       "bowtie2_ID0000003          230.670696    226.551576  \n",
       "fasterq-dump_ID0000004   14203.906000  17238.466250  \n",
       "bowtie2_ID0000005          206.464696    202.777826  \n",
       "fasterq-dump_ID0000006   26713.643478  32683.738043  \n",
       "bowtie2_ID0000007          223.982609    214.650000  \n",
       "fasterq-dump_ID0000008   12154.818522  14714.448098  \n",
       "bowtie2_ID0000009          175.398261    168.090000  \n",
       "fasterq-dump_ID0000010   35329.160087  43421.904293  \n",
       "bowtie2_ID0000011          169.618696    162.551250  \n",
       "fasterq-dump_ID0000012   20951.319043  25568.412772  \n",
       "bowtie2_ID0000013          186.112174    178.357500  \n",
       "fasterq-dump_ID0000014   10674.687130  12889.943804  \n",
       "bowtie2_ID0000015          124.837826    119.636250  \n",
       "fasterq-dump_ID0000016   45916.124870  56437.049348  \n",
       "bowtie2_ID0000017          264.748696    253.717500  \n",
       "fasterq-dump_ID0000018   36170.541217  44407.169130  \n",
       "bowtie2_ID0000019          253.843043    243.266250  \n",
       "fasterq-dump_ID0000020   50548.038261  62133.632609  \n",
       "bowtie2_ID0000021          360.056261    353.626685  \n",
       "merge_ID0000022              0.030000     -0.093750  "
      ]
     },
     "execution_count": 41,
     "metadata": {},
     "output_type": "execute_result"
    }
   ],
   "source": [
    "cost_df = pd.DataFrame(data=costs, index = [j.name for j in jobs])\n",
    "cost_df"
   ]
  },
  {
   "cell_type": "code",
   "execution_count": null,
   "id": "-h1x8j7TH5Ho",
   "metadata": {
    "id": "-h1x8j7TH5Ho",
    "pycharm": {
     "is_executing": true
    }
   },
   "outputs": [],
   "source": []
  },
  {
   "cell_type": "code",
   "execution_count": 42,
   "id": "OZaZrqh6pz_t",
   "metadata": {
    "colab": {
     "base_uri": "https://localhost:8080/",
     "height": 739
    },
    "id": "OZaZrqh6pz_t",
    "outputId": "f027ee49-5cf2-459a-db01-eead99605993",
    "pycharm": {
     "is_executing": true
    }
   },
   "outputs": [
    {
     "data": {
      "text/html": [
       "<div>\n",
       "<style scoped>\n",
       "    .dataframe tbody tr th:only-of-type {\n",
       "        vertical-align: middle;\n",
       "    }\n",
       "\n",
       "    .dataframe tbody tr th {\n",
       "        vertical-align: top;\n",
       "    }\n",
       "\n",
       "    .dataframe thead th {\n",
       "        text-align: right;\n",
       "    }\n",
       "</style>\n",
       "<table border=\"1\" class=\"dataframe\">\n",
       "  <thead>\n",
       "    <tr style=\"text-align: right;\">\n",
       "      <th></th>\n",
       "      <th>ZeusCpuRuntime</th>\n",
       "      <th>PrometeusCpuRuntime</th>\n",
       "      <th>AresCpuRuntime</th>\n",
       "      <th>PrometeusGpuRuntime</th>\n",
       "      <th>AresGpuRuntime</th>\n",
       "    </tr>\n",
       "  </thead>\n",
       "  <tbody>\n",
       "    <tr>\n",
       "      <th>bowtie2-build_ID0000001</th>\n",
       "      <td>220.939130</td>\n",
       "      <td>55.234783</td>\n",
       "      <td>34.521739</td>\n",
       "      <td>0.552348</td>\n",
       "      <td>0.345217</td>\n",
       "    </tr>\n",
       "    <tr>\n",
       "      <th>fasterq-dump_ID0000002</th>\n",
       "      <td>31195.373913</td>\n",
       "      <td>7798.843478</td>\n",
       "      <td>4874.277174</td>\n",
       "      <td>77.988435</td>\n",
       "      <td>48.742772</td>\n",
       "    </tr>\n",
       "    <tr>\n",
       "      <th>bowtie2_ID0000003</th>\n",
       "      <td>1883.026087</td>\n",
       "      <td>470.756522</td>\n",
       "      <td>294.222826</td>\n",
       "      <td>4.707565</td>\n",
       "      <td>2.942228</td>\n",
       "    </tr>\n",
       "    <tr>\n",
       "      <th>fasterq-dump_ID0000004</th>\n",
       "      <td>15738.400000</td>\n",
       "      <td>3934.600000</td>\n",
       "      <td>2459.125000</td>\n",
       "      <td>39.346000</td>\n",
       "      <td>24.591250</td>\n",
       "    </tr>\n",
       "    <tr>\n",
       "      <th>bowtie2_ID0000005</th>\n",
       "      <td>1685.426087</td>\n",
       "      <td>421.356522</td>\n",
       "      <td>263.347826</td>\n",
       "      <td>4.213565</td>\n",
       "      <td>2.633478</td>\n",
       "    </tr>\n",
       "    <tr>\n",
       "      <th>fasterq-dump_ID0000006</th>\n",
       "      <td>21586.782609</td>\n",
       "      <td>5396.695652</td>\n",
       "      <td>3372.934783</td>\n",
       "      <td>53.966957</td>\n",
       "      <td>33.729348</td>\n",
       "    </tr>\n",
       "    <tr>\n",
       "      <th>bowtie2_ID0000007</th>\n",
       "      <td>1990.956522</td>\n",
       "      <td>497.739130</td>\n",
       "      <td>311.086957</td>\n",
       "      <td>4.977391</td>\n",
       "      <td>3.110870</td>\n",
       "    </tr>\n",
       "    <tr>\n",
       "      <th>fasterq-dump_ID0000008</th>\n",
       "      <td>14600.382609</td>\n",
       "      <td>3650.095652</td>\n",
       "      <td>2281.309783</td>\n",
       "      <td>36.500957</td>\n",
       "      <td>22.813098</td>\n",
       "    </tr>\n",
       "    <tr>\n",
       "      <th>bowtie2_ID0000009</th>\n",
       "      <td>1559.095652</td>\n",
       "      <td>389.773913</td>\n",
       "      <td>243.608696</td>\n",
       "      <td>3.897739</td>\n",
       "      <td>2.436087</td>\n",
       "    </tr>\n",
       "    <tr>\n",
       "      <th>fasterq-dump_ID0000010</th>\n",
       "      <td>22538.539130</td>\n",
       "      <td>5634.634783</td>\n",
       "      <td>3521.646739</td>\n",
       "      <td>56.346348</td>\n",
       "      <td>35.216467</td>\n",
       "    </tr>\n",
       "    <tr>\n",
       "      <th>bowtie2_ID0000011</th>\n",
       "      <td>1507.721739</td>\n",
       "      <td>376.930435</td>\n",
       "      <td>235.581522</td>\n",
       "      <td>3.769304</td>\n",
       "      <td>2.355815</td>\n",
       "    </tr>\n",
       "    <tr>\n",
       "      <th>fasterq-dump_ID0000012</th>\n",
       "      <td>18917.669565</td>\n",
       "      <td>4729.417391</td>\n",
       "      <td>2955.885870</td>\n",
       "      <td>47.294174</td>\n",
       "      <td>29.558859</td>\n",
       "    </tr>\n",
       "    <tr>\n",
       "      <th>bowtie2_ID0000013</th>\n",
       "      <td>1654.330435</td>\n",
       "      <td>413.582609</td>\n",
       "      <td>258.489130</td>\n",
       "      <td>4.135826</td>\n",
       "      <td>2.584891</td>\n",
       "    </tr>\n",
       "    <tr>\n",
       "      <th>fasterq-dump_ID0000014</th>\n",
       "      <td>13818.365217</td>\n",
       "      <td>3454.591304</td>\n",
       "      <td>2159.119565</td>\n",
       "      <td>34.545913</td>\n",
       "      <td>21.591196</td>\n",
       "    </tr>\n",
       "    <tr>\n",
       "      <th>bowtie2_ID0000015</th>\n",
       "      <td>1109.669565</td>\n",
       "      <td>277.417391</td>\n",
       "      <td>173.385870</td>\n",
       "      <td>2.774174</td>\n",
       "      <td>1.733859</td>\n",
       "    </tr>\n",
       "    <tr>\n",
       "      <th>fasterq-dump_ID0000016</th>\n",
       "      <td>29199.443478</td>\n",
       "      <td>7299.860870</td>\n",
       "      <td>4562.413043</td>\n",
       "      <td>72.998609</td>\n",
       "      <td>45.624130</td>\n",
       "    </tr>\n",
       "    <tr>\n",
       "      <th>bowtie2_ID0000017</th>\n",
       "      <td>2353.321739</td>\n",
       "      <td>588.330435</td>\n",
       "      <td>367.706522</td>\n",
       "      <td>5.883304</td>\n",
       "      <td>3.677065</td>\n",
       "    </tr>\n",
       "    <tr>\n",
       "      <th>fasterq-dump_ID0000018</th>\n",
       "      <td>24564.034783</td>\n",
       "      <td>6141.008696</td>\n",
       "      <td>3838.130435</td>\n",
       "      <td>61.410087</td>\n",
       "      <td>38.381304</td>\n",
       "    </tr>\n",
       "    <tr>\n",
       "      <th>bowtie2_ID0000019</th>\n",
       "      <td>2256.382609</td>\n",
       "      <td>564.095652</td>\n",
       "      <td>352.559783</td>\n",
       "      <td>5.640957</td>\n",
       "      <td>3.525598</td>\n",
       "    </tr>\n",
       "    <tr>\n",
       "      <th>fasterq-dump_ID0000020</th>\n",
       "      <td>32043.130435</td>\n",
       "      <td>8010.782609</td>\n",
       "      <td>5006.739130</td>\n",
       "      <td>80.107826</td>\n",
       "      <td>50.067391</td>\n",
       "    </tr>\n",
       "    <tr>\n",
       "      <th>bowtie2_ID0000021</th>\n",
       "      <td>2939.234783</td>\n",
       "      <td>734.808696</td>\n",
       "      <td>459.255435</td>\n",
       "      <td>7.348087</td>\n",
       "      <td>4.592554</td>\n",
       "    </tr>\n",
       "    <tr>\n",
       "      <th>merge_ID0000022</th>\n",
       "      <td>4.000000</td>\n",
       "      <td>1.000000</td>\n",
       "      <td>0.625000</td>\n",
       "      <td>0.010000</td>\n",
       "      <td>0.006250</td>\n",
       "    </tr>\n",
       "  </tbody>\n",
       "</table>\n",
       "</div>"
      ],
      "text/plain": [
       "                         ZeusCpuRuntime  PrometeusCpuRuntime  AresCpuRuntime  \\\n",
       "bowtie2-build_ID0000001      220.939130            55.234783       34.521739   \n",
       "fasterq-dump_ID0000002     31195.373913          7798.843478     4874.277174   \n",
       "bowtie2_ID0000003           1883.026087           470.756522      294.222826   \n",
       "fasterq-dump_ID0000004     15738.400000          3934.600000     2459.125000   \n",
       "bowtie2_ID0000005           1685.426087           421.356522      263.347826   \n",
       "fasterq-dump_ID0000006     21586.782609          5396.695652     3372.934783   \n",
       "bowtie2_ID0000007           1990.956522           497.739130      311.086957   \n",
       "fasterq-dump_ID0000008     14600.382609          3650.095652     2281.309783   \n",
       "bowtie2_ID0000009           1559.095652           389.773913      243.608696   \n",
       "fasterq-dump_ID0000010     22538.539130          5634.634783     3521.646739   \n",
       "bowtie2_ID0000011           1507.721739           376.930435      235.581522   \n",
       "fasterq-dump_ID0000012     18917.669565          4729.417391     2955.885870   \n",
       "bowtie2_ID0000013           1654.330435           413.582609      258.489130   \n",
       "fasterq-dump_ID0000014     13818.365217          3454.591304     2159.119565   \n",
       "bowtie2_ID0000015           1109.669565           277.417391      173.385870   \n",
       "fasterq-dump_ID0000016     29199.443478          7299.860870     4562.413043   \n",
       "bowtie2_ID0000017           2353.321739           588.330435      367.706522   \n",
       "fasterq-dump_ID0000018     24564.034783          6141.008696     3838.130435   \n",
       "bowtie2_ID0000019           2256.382609           564.095652      352.559783   \n",
       "fasterq-dump_ID0000020     32043.130435          8010.782609     5006.739130   \n",
       "bowtie2_ID0000021           2939.234783           734.808696      459.255435   \n",
       "merge_ID0000022                4.000000             1.000000        0.625000   \n",
       "\n",
       "                         PrometeusGpuRuntime  AresGpuRuntime  \n",
       "bowtie2-build_ID0000001             0.552348        0.345217  \n",
       "fasterq-dump_ID0000002             77.988435       48.742772  \n",
       "bowtie2_ID0000003                   4.707565        2.942228  \n",
       "fasterq-dump_ID0000004             39.346000       24.591250  \n",
       "bowtie2_ID0000005                   4.213565        2.633478  \n",
       "fasterq-dump_ID0000006             53.966957       33.729348  \n",
       "bowtie2_ID0000007                   4.977391        3.110870  \n",
       "fasterq-dump_ID0000008             36.500957       22.813098  \n",
       "bowtie2_ID0000009                   3.897739        2.436087  \n",
       "fasterq-dump_ID0000010             56.346348       35.216467  \n",
       "bowtie2_ID0000011                   3.769304        2.355815  \n",
       "fasterq-dump_ID0000012             47.294174       29.558859  \n",
       "bowtie2_ID0000013                   4.135826        2.584891  \n",
       "fasterq-dump_ID0000014             34.545913       21.591196  \n",
       "bowtie2_ID0000015                   2.774174        1.733859  \n",
       "fasterq-dump_ID0000016             72.998609       45.624130  \n",
       "bowtie2_ID0000017                   5.883304        3.677065  \n",
       "fasterq-dump_ID0000018             61.410087       38.381304  \n",
       "bowtie2_ID0000019                   5.640957        3.525598  \n",
       "fasterq-dump_ID0000020             80.107826       50.067391  \n",
       "bowtie2_ID0000021                   7.348087        4.592554  \n",
       "merge_ID0000022                     0.010000        0.006250  "
      ]
     },
     "execution_count": 42,
     "metadata": {},
     "output_type": "execute_result"
    }
   ],
   "source": [
    "runtime_df = pd.DataFrame(data=runtimes, index = [j.name for j in jobs])\n",
    "runtime_df"
   ]
  },
  {
   "cell_type": "code",
   "execution_count": null,
   "id": "jpUeBNdOw-_v",
   "metadata": {
    "id": "jpUeBNdOw-_v",
    "pycharm": {
     "is_executing": true
    }
   },
   "outputs": [],
   "source": []
  },
  {
   "cell_type": "code",
   "execution_count": 43,
   "id": "UZJxsI_gxU_V",
   "metadata": {
    "colab": {
     "base_uri": "https://localhost:8080/"
    },
    "id": "UZJxsI_gxU_V",
    "outputId": "f0baccfc-b285-45d8-8e9c-8c095ffcefc7",
    "pycharm": {
     "is_executing": true
    }
   },
   "outputs": [
    {
     "name": "stdout",
     "output_type": "stream",
     "text": [
      "'Shape (110, 20)'\n",
      "array([[2.2093913e+02, 2.2093913e+02, 2.2093913e+02, ..., 0.0000000e+00,\n",
      "        0.0000000e+00, 0.0000000e+00],\n",
      "       [0.0000000e+00, 0.0000000e+00, 0.0000000e+00, ..., 0.0000000e+00,\n",
      "        0.0000000e+00, 0.0000000e+00],\n",
      "       [1.8830261e+03, 0.0000000e+00, 0.0000000e+00, ..., 0.0000000e+00,\n",
      "        0.0000000e+00, 0.0000000e+00],\n",
      "       ...,\n",
      "       [0.0000000e+00, 0.0000000e+00, 0.0000000e+00, ..., 0.0000000e+00,\n",
      "        0.0000000e+00, 5.0067390e+01],\n",
      "       [0.0000000e+00, 0.0000000e+00, 0.0000000e+00, ..., 0.0000000e+00,\n",
      "        0.0000000e+00, 4.5925546e+00],\n",
      "       [6.2500001e-03, 6.2500001e-03, 6.2500001e-03, ..., 6.2500001e-03,\n",
      "        6.2500001e-03, 6.2500001e-03]], dtype=float32)\n"
     ]
    }
   ],
   "source": [
    "\n",
    "# flat_runtimes = [runtime for n, machine_runtimes in runtimes.items() for runtime in machine_runtimes]\n",
    "flat_runtimes = [(runtime, name) for n, machine_runtimes in runtimes.items() for runtime, name in zip(machine_runtimes, [j.name for j in jobs])]\n",
    "\n",
    "R = np.zeros(shape=(len(flat_runtimes),len(paths)), dtype=np.float32)\n",
    "\n",
    "for i, (job, name) in enumerate(flat_runtimes):\n",
    "    for j, path in enumerate(paths):\n",
    "      for node in path:\n",
    "        if name == node:\n",
    "          R[i,j] = job\n",
    "\n",
    "pprint(f'Shape {R.shape}')\n",
    "pprint(R)\n"
   ]
  },
  {
   "cell_type": "code",
   "execution_count": 44,
   "id": "MHMaJtkMyGK3",
   "metadata": {
    "colab": {
     "base_uri": "https://localhost:8080/"
    },
    "id": "MHMaJtkMyGK3",
    "outputId": "98b03ec8-908f-43ac-9413-dbd488fea97a",
    "pycharm": {
     "is_executing": true
    }
   },
   "outputs": [
    {
     "data": {
      "text/plain": [
       "array([[1., 0., 0., ..., 0., 0., 0.],\n",
       "       [0., 1., 0., ..., 0., 0., 0.],\n",
       "       [0., 0., 1., ..., 0., 0., 0.],\n",
       "       ...,\n",
       "       [0., 0., 0., ..., 1., 0., 0.],\n",
       "       [0., 0., 0., ..., 0., 1., 0.],\n",
       "       [0., 0., 0., ..., 0., 0., 1.]], dtype=float32)"
      ]
     },
     "execution_count": 44,
     "metadata": {},
     "output_type": "execute_result"
    }
   ],
   "source": [
    "y_size =  np.array(cost_df).shape[0] * np.array(cost_df).shape[1]\n",
    "USE_ONE_MACHINE  = np.zeros(shape=( y_size, np.array(cost_df).shape[0]), dtype = np.float32)\n",
    "for i in range(len(jobs)):\n",
    "  for j in range(i, y_size, len(jobs)):\n",
    "    USE_ONE_MACHINE[j,i] = 1\n",
    "\n",
    "USE_ONE_MACHINE"
   ]
  },
  {
   "cell_type": "code",
   "execution_count": 45,
   "id": "E3uM5d1JT3M_",
   "metadata": {
    "id": "E3uM5d1JT3M_",
    "pycharm": {
     "is_executing": true
    }
   },
   "outputs": [],
   "source": [
    "DEADLINE = 40000"
   ]
  },
  {
   "cell_type": "code",
   "execution_count": 46,
   "id": "qYZoqaKeT3XP",
   "metadata": {
    "colab": {
     "base_uri": "https://localhost:8080/"
    },
    "id": "qYZoqaKeT3XP",
    "outputId": "05aeba06-3bf2-423e-a889-c316f7b74ee5",
    "pycharm": {
     "is_executing": true
    }
   },
   "outputs": [
    {
     "data": {
      "text/plain": [
       "array([[ 220,  220,  220, ...,    0,    0,    0],\n",
       "       [   0,    0,    0, ...,    0,    0,    0],\n",
       "       [1883,    0,    0, ...,    0,    0,    0],\n",
       "       ...,\n",
       "       [   0,    0,    0, ...,    0,    0,   50],\n",
       "       [   0,    0,    0, ...,    0,    0,    4],\n",
       "       [   0,    0,    0, ...,    0,    0,    0]], dtype=int32)"
      ]
     },
     "execution_count": 46,
     "metadata": {},
     "output_type": "execute_result"
    }
   ],
   "source": [
    "PATHS =  (R).astype(np.int32)\n",
    "PATHS"
   ]
  },
  {
   "cell_type": "code",
   "execution_count": 47,
   "id": "gmko9CeiUaoR",
   "metadata": {
    "colab": {
     "base_uri": "https://localhost:8080/"
    },
    "id": "gmko9CeiUaoR",
    "outputId": "dee17514-e79c-49ae-d5ff-483aeedd7a0c",
    "pycharm": {
     "is_executing": true
    }
   },
   "outputs": [
    {
     "data": {
      "text/plain": [
       "array([[    1,     2,     4, ...,     0,     0,     0],\n",
       "       [    0,     0,     0, ...,     0,     0,     0],\n",
       "       [    0,     0,     0, ...,     0,     0,     0],\n",
       "       ...,\n",
       "       [    0,     0,     0, ...,     0,     0,     0],\n",
       "       [    0,     0,     0, ...,     0,     0,     0],\n",
       "       [    0,     0,     0, ...,  8192, 16384, 32768]], dtype=int32)"
      ]
     },
     "execution_count": 47,
     "metadata": {},
     "output_type": "execute_result"
    }
   ],
   "source": [
    "POWERS_2 = [ 2 ** i for i in range(np.ceil(np.log2(DEADLINE)).astype(np.int32))]\n",
    "POWERS_2\n",
    "\n",
    "SLACK = np.zeros(shape=(PATHS.shape[0], PATHS.shape[0] * len(POWERS_2))).astype(np.int32)\n",
    "\n",
    "for i in range(0, SLACK.shape[0]):\n",
    "    SLACK[i, i * len(POWERS_2):(i + 1) * len(POWERS_2)] = POWERS_2\n",
    "SLACK"
   ]
  },
  {
   "cell_type": "code",
   "execution_count": 48,
   "id": "U-CTkNB1Wvyf",
   "metadata": {
    "colab": {
     "base_uri": "https://localhost:8080/"
    },
    "id": "U-CTkNB1Wvyf",
    "outputId": "326f595f-0eb5-42dc-d56c-2560556d87b4",
    "pycharm": {
     "is_executing": true
    }
   },
   "outputs": [
    {
     "name": "stdout",
     "output_type": "stream",
     "text": [
      "PATHS shape (110, 20)\n",
      "SLACK shape (110, 1760)\n",
      "USE_ONE_MACHINE shape (110, 22)\n",
      "Intermediate A shape (110, 1782)\n",
      "U shape (110, 1782)\n",
      "===================================================\n",
      "A shape (220, 1782)\n",
      "b shape (220,)\n"
     ]
    }
   ],
   "source": [
    "A = np.concatenate((PATHS,SLACK), axis=1)\n",
    "\n",
    "\n",
    "U = np.concatenate((USE_ONE_MACHINE, np.zeros(shape = (USE_ONE_MACHINE.shape[0], SLACK.shape[1]))), axis = 1)\n",
    "if U.shape[1] - A.shape[1] > 0:\n",
    "  A = np.pad(A, [(0, 0), (0, U.shape[1] - A.shape[1])], mode='constant', constant_values=0)\n",
    "elif U.shape[1] - A.shape[1] < 0:\n",
    "  U = np.pad(U, [(0, 0), (0, A.shape[1] - U.shape[1])], mode='constant', constant_values=0)\n",
    "\n",
    "b_paths = np.array([DEADLINE for i in range(A.shape[0])] , dtype=np.int32 )\n",
    "b_machines = np.array([1 for i in range(U.shape[0]) ] , dtype=np.int32 )\n",
    "b = np.concatenate((b_paths, b_machines), axis = 0)\n",
    "  \n",
    "A = np.pad(A, [(0, 0), (0, U.shape[1] - A.shape[1])], mode='constant', constant_values=0)\n",
    "S = 10000\n",
    "\n",
    "print(f'PATHS shape {PATHS.shape}')\n",
    "print(f'SLACK shape {SLACK.shape}')\n",
    "print(f'USE_ONE_MACHINE shape {USE_ONE_MACHINE.shape}')\n",
    "\n",
    "print(f'Intermediate A shape {A.shape}')\n",
    "print(f'U shape {U.shape}')\n",
    "\n",
    "A = np.concatenate((A, S * U))\n",
    "\n",
    "print(f'===================================================')\n",
    "print(f'A shape {A.shape}')\n",
    "print(f'b shape {b.shape}')\n"
   ]
  },
  {
   "cell_type": "code",
   "execution_count": 49,
   "id": "VSFmKgZEalSt",
   "metadata": {
    "colab": {
     "base_uri": "https://localhost:8080/"
    },
    "id": "VSFmKgZEalSt",
    "outputId": "25353b07-b796-487e-d9b8-156357f6ffa3",
    "pycharm": {
     "is_executing": true
    }
   },
   "outputs": [
    {
     "name": "stdout",
     "output_type": "stream",
     "text": [
      "C shape (110,)\n"
     ]
    },
    {
     "data": {
      "text/plain": [
       "array([ 3.35827478e+02,  1.59959930e+02,  1.88350609e+02,  9.99749565e+01,\n",
       "        1.17719130e+02,  1.59221188e+05,  7.84875608e+04,  9.64716938e+04,\n",
       "        4.90547255e+04,  6.02948086e+04,  8.73724104e+02,  3.69073113e+02,\n",
       "        3.62482522e+02,  2.30670696e+02,  2.26551576e+02,  4.65856640e+04,\n",
       "        2.27262496e+04,  2.75815460e+04,  1.42039060e+04,  1.72384663e+04,\n",
       "        7.82037704e+02,  3.30343513e+02,  3.24444522e+02,  2.06464696e+02,\n",
       "        2.02777826e+02,  8.70379075e+04,  4.27418296e+04,  5.22939809e+04,\n",
       "        2.67136435e+04,  3.26837380e+04,  8.60093217e+02,  3.58372174e+02,\n",
       "        3.43440000e+02,  2.23982609e+02,  2.14650000e+02,  3.99466468e+04,\n",
       "        1.94477096e+04,  2.35431170e+04,  1.21548185e+04,  1.47144481e+04,\n",
       "        6.73529322e+02,  2.80637217e+02,  2.68944000e+02,  1.75398261e+02,\n",
       "        1.68090000e+02,  1.14676087e+05,  5.65266561e+04,  6.94750469e+04,\n",
       "        3.53291601e+04,  4.34219043e+04,  6.51335791e+02,  2.71389913e+02,\n",
       "        2.60082000e+02,  1.69618696e+02,  1.62551250e+02,  6.84062931e+04,\n",
       "        3.35221105e+04,  4.09094604e+04,  2.09513190e+04,  2.55684128e+04,\n",
       "        7.14670748e+02,  2.97779478e+02,  2.85372000e+02,  1.86112174e+02,\n",
       "        1.78357500e+02,  3.51539211e+04,  1.70794994e+04,  2.06239101e+04,\n",
       "        1.06746871e+04,  1.28899438e+04,  4.79377252e+02,  1.99740522e+02,\n",
       "        1.91418000e+02,  1.24837826e+02,  1.19636250e+02,  1.49033960e+05,\n",
       "        7.34657998e+04,  9.02992790e+04,  4.59161249e+04,  5.64370493e+04,\n",
       "        1.01663499e+03,  4.23597913e+02,  4.05948000e+02,  2.64748696e+02,\n",
       "        2.53717500e+02,  1.17514342e+05,  5.78728659e+04,  7.10514706e+04,\n",
       "        3.61705412e+04,  4.44071691e+04,  9.74757287e+02,  4.06148870e+02,\n",
       "        3.89226000e+02,  2.53843043e+02,  2.43266250e+02,  1.64060828e+05,\n",
       "        8.08768612e+04,  9.94138122e+04,  5.05480383e+04,  6.21336326e+04,\n",
       "        1.36380494e+03,  5.76090017e+02,  5.65802696e+02,  3.60056261e+02,\n",
       "        3.53626685e+02,  3.84000000e-01,  4.80000000e-02, -1.50000000e-01,\n",
       "        3.00000000e-02, -9.37500000e-02])"
      ]
     },
     "execution_count": 49,
     "metadata": {},
     "output_type": "execute_result"
    }
   ],
   "source": [
    "C_diag = np.diag(np.array(cost_df).flatten())\n",
    "C = np.array(cost_df).flatten()\n",
    "print(f'C shape {C.shape}')\n",
    "C"
   ]
  },
  {
   "cell_type": "code",
   "execution_count": 50,
   "id": "3hCbRFVFAkZX",
   "metadata": {
    "id": "3hCbRFVFAkZX",
    "pycharm": {
     "is_executing": true
    }
   },
   "outputs": [],
   "source": [
    "P = 10000\n",
    "\n",
    "# SOLUTION\n",
    "D = np.diag(2 * A.transpose().dot(b))"
   ]
  },
  {
   "cell_type": "code",
   "execution_count": 51,
   "id": "9TdkAY7dwl73",
   "metadata": {
    "id": "9TdkAY7dwl73",
    "pycharm": {
     "is_executing": true
    }
   },
   "outputs": [],
   "source": [
    "C = np.pad(C, [(0, D.shape[0] - C.shape[0])], mode='constant')"
   ]
  },
  {
   "cell_type": "code",
   "execution_count": 52,
   "id": "Npm2EyNvwj4U",
   "metadata": {
    "id": "Npm2EyNvwj4U",
    "pycharm": {
     "is_executing": true
    }
   },
   "outputs": [],
   "source": [
    "QUBO = P * (A.transpose().dot(A) + D) + C"
   ]
  },
  {
   "cell_type": "code",
   "execution_count": 53,
   "id": "383kXyjOxGDI",
   "metadata": {
    "colab": {
     "base_uri": "https://localhost:8080/"
    },
    "id": "383kXyjOxGDI",
    "outputId": "a7ce21ea-b46d-45f0-8e18-d301c8632c1b",
    "pycharm": {
     "is_executing": true
    }
   },
   "outputs": [
    {
     "data": {
      "text/plain": [
       "array([[7.41365643e+12, 5.25980160e+08, 5.25980188e+08, ...,\n",
       "        0.00000000e+00, 0.00000000e+00, 0.00000000e+00],\n",
       "       [5.25980336e+08, 7.18358253e+12, 5.25980188e+08, ...,\n",
       "        0.00000000e+00, 0.00000000e+00, 0.00000000e+00],\n",
       "       [5.25980336e+08, 5.25980160e+08, 7.53976453e+12, ...,\n",
       "        0.00000000e+00, 0.00000000e+00, 0.00000000e+00],\n",
       "       ...,\n",
       "       [3.35827478e+02, 1.59959930e+02, 1.88350609e+02, ...,\n",
       "        3.69518182e+13, 0.00000000e+00, 0.00000000e+00],\n",
       "       [3.35827478e+02, 1.59959930e+02, 1.88350609e+02, ...,\n",
       "        0.00000000e+00, 0.00000000e+00, 0.00000000e+00],\n",
       "       [3.35827478e+02, 1.59959930e+02, 1.88350609e+02, ...,\n",
       "        0.00000000e+00, 0.00000000e+00, 0.00000000e+00]])"
      ]
     },
     "execution_count": 53,
     "metadata": {},
     "output_type": "execute_result"
    }
   ],
   "source": [
    "QUBO"
   ]
  },
  {
   "cell_type": "code",
   "execution_count": 54,
   "id": "4531719f",
   "metadata": {
    "pycharm": {
     "is_executing": true
    }
   },
   "outputs": [],
   "source": [
    "import dimod\n",
    "from dimod.generators.constraints import combinations\n",
    "from dimod import BinaryQuadraticModel\n",
    "\n",
    "from hybrid.reference import KerberosSampler"
   ]
  },
  {
   "cell_type": "code",
   "execution_count": 55,
   "id": "b33ea595",
   "metadata": {
    "pycharm": {
     "is_executing": true
    }
   },
   "outputs": [],
   "source": [
    "def solve(qubo_matrix):\n",
    "    \"\"\"Solve BQM and return matrix with solution.\"\"\"\n",
    "    bqm = dimod.BinaryQuadraticModel(qubo_matrix, \"BINARY\")\n",
    "    solution = KerberosSampler().sample(bqm,\n",
    "                                        max_iter=10,\n",
    "                                        convergence=3,\n",
    "                                        qpu_params={'label': 'Trial - Workflow Optimization'})\n",
    "    best_solution = solution.first.sample\n",
    "    solution_list = [k for k, v in best_solution.items() if v == 1]\n",
    "\n",
    "    return solution\n",
    "\n",
    "    # result = solve_sudoku(bqm, matrix)"
   ]
  },
  {
   "cell_type": "code",
   "execution_count": 56,
   "id": "7c78a0a9",
   "metadata": {
    "pycharm": {
     "is_executing": true
    }
   },
   "outputs": [],
   "source": [
    "# solution = solve(QUBO)"
   ]
  },
  {
   "cell_type": "code",
   "execution_count": 57,
   "id": "70553e86",
   "metadata": {
    "pycharm": {
     "is_executing": true
    }
   },
   "outputs": [],
   "source": [
    "# solution"
   ]
  },
  {
   "cell_type": "markdown",
   "id": "44b04368",
   "metadata": {
    "pycharm": {
     "is_executing": true
    }
   },
   "source": [
    "# Trying CQM"
   ]
  },
  {
   "cell_type": "code",
   "execution_count": 58,
   "id": "98449079",
   "metadata": {
    "pycharm": {
     "is_executing": true
    }
   },
   "outputs": [
    {
     "name": "stdout",
     "output_type": "stream",
     "text": [
      "['__class__',\n",
      " '__delattr__',\n",
      " '__dict__',\n",
      " '__dir__',\n",
      " '__doc__',\n",
      " '__eq__',\n",
      " '__format__',\n",
      " '__ge__',\n",
      " '__getattribute__',\n",
      " '__gt__',\n",
      " '__hash__',\n",
      " '__init__',\n",
      " '__init_subclass__',\n",
      " '__le__',\n",
      " '__lt__',\n",
      " '__module__',\n",
      " '__ne__',\n",
      " '__new__',\n",
      " '__reduce__',\n",
      " '__reduce_ex__',\n",
      " '__repr__',\n",
      " '__setattr__',\n",
      " '__sizeof__',\n",
      " '__str__',\n",
      " '__subclasshook__',\n",
      " '__weakref__',\n",
      " '_add_variables_from',\n",
      " '_discrete',\n",
      " '_iterable_to_qm',\n",
      " '_objective',\n",
      " '_substitute_self_loops_from_model',\n",
      " 'add_constraint',\n",
      " 'add_constraint_from_comparison',\n",
      " 'add_constraint_from_iterable',\n",
      " 'add_constraint_from_model',\n",
      " 'add_discrete',\n",
      " 'add_variable',\n",
      " 'check_feasible',\n",
      " 'constraints',\n",
      " 'discrete',\n",
      " 'fix_variable',\n",
      " 'fix_variables',\n",
      " 'from_bqm',\n",
      " 'from_discrete_quadratic_model',\n",
      " 'from_dqm',\n",
      " 'from_file',\n",
      " 'from_lp_file',\n",
      " 'from_qm',\n",
      " 'from_quadratic_model',\n",
      " 'is_almost_equal',\n",
      " 'is_equal',\n",
      " 'iter_constraint_data',\n",
      " 'iter_violations',\n",
      " 'lower_bound',\n",
      " 'num_biases',\n",
      " 'num_quadratic_variables',\n",
      " 'objective',\n",
      " 'relabel_variables',\n",
      " 'set_objective',\n",
      " 'substitute_self_loops',\n",
      " 'to_file',\n",
      " 'upper_bound',\n",
      " 'variables',\n",
      " 'vartype',\n",
      " 'violations']\n"
     ]
    }
   ],
   "source": [
    "from dimod import Binary, Integer, ConstrainedQuadraticModel\n",
    "from dwave.system import LeapHybridBQMSampler, LeapHybridCQMSampler\n",
    "\n",
    "x = Binary('x')\n",
    "i = Integer('i')\n",
    "j = Integer('j')\n",
    "cqm = ConstrainedQuadraticModel()\n",
    "\n",
    "pprint(dir(cqm))\n",
    "\n",
    "cqm.set_objective(2*i + 0.5*i*j -j*x + 10)\n",
    "cqm.add_constraint(x*j <= 3)                   \n",
    "cqm.add_constraint(i + j >= 1)\n",
    "\n",
    "sampler_cqm = LeapHybridCQMSampler()\n",
    "\n",
    "solution = sampler_cqm.sample_cqm(cqm)"
   ]
  },
  {
   "cell_type": "code",
   "execution_count": 59,
   "id": "5680273b",
   "metadata": {},
   "outputs": [],
   "source": [
    "best_solution = solution.first.sample"
   ]
  },
  {
   "cell_type": "code",
   "execution_count": 60,
   "id": "48510c3d",
   "metadata": {},
   "outputs": [
    {
     "data": {
      "text/plain": [
       "{'i': 20046.0, 'j': 1.0, 'x': 1.0}"
      ]
     },
     "execution_count": 60,
     "metadata": {},
     "output_type": "execute_result"
    }
   ],
   "source": [
    "best_solution"
   ]
  },
  {
   "cell_type": "code",
   "execution_count": 61,
   "id": "5b389b8b",
   "metadata": {},
   "outputs": [
    {
     "data": {
      "text/plain": [
       "['_REQUIRED_FIELDS',\n",
       " '__abstractmethods__',\n",
       " '__class__',\n",
       " '__delattr__',\n",
       " '__dict__',\n",
       " '__dir__',\n",
       " '__doc__',\n",
       " '__eq__',\n",
       " '__format__',\n",
       " '__ge__',\n",
       " '__getattribute__',\n",
       " '__getstate__',\n",
       " '__gt__',\n",
       " '__hash__',\n",
       " '__init__',\n",
       " '__init_subclass__',\n",
       " '__iter__',\n",
       " '__le__',\n",
       " '__len__',\n",
       " '__lt__',\n",
       " '__module__',\n",
       " '__ne__',\n",
       " '__new__',\n",
       " '__reduce__',\n",
       " '__reduce_ex__',\n",
       " '__repr__',\n",
       " '__setattr__',\n",
       " '__sizeof__',\n",
       " '__slots__',\n",
       " '__str__',\n",
       " '__subclasshook__',\n",
       " '__weakref__',\n",
       " '_abc_impl',\n",
       " '_asdict',\n",
       " '_info',\n",
       " '_record',\n",
       " '_variables',\n",
       " '_vartype',\n",
       " 'aggregate',\n",
       " 'append_variables',\n",
       " 'change_vartype',\n",
       " 'copy',\n",
       " 'data',\n",
       " 'data_vectors',\n",
       " 'done',\n",
       " 'filter',\n",
       " 'first',\n",
       " 'from_future',\n",
       " 'from_samples',\n",
       " 'from_samples_bqm',\n",
       " 'from_serializable',\n",
       " 'info',\n",
       " 'is_writeable',\n",
       " 'lowest',\n",
       " 'record',\n",
       " 'relabel_variables',\n",
       " 'resolve',\n",
       " 'samples',\n",
       " 'slice',\n",
       " 'to_pandas_dataframe',\n",
       " 'to_serializable',\n",
       " 'truncate',\n",
       " 'variables',\n",
       " 'vartype',\n",
       " 'wait_id']"
      ]
     },
     "execution_count": 61,
     "metadata": {},
     "output_type": "execute_result"
    }
   ],
   "source": [
    "dir(solution)"
   ]
  },
  {
   "cell_type": "markdown",
   "id": "bb5c119e",
   "metadata": {},
   "source": [
    "# Trying worflow problem using CQM"
   ]
  },
  {
   "cell_type": "code",
   "execution_count": 62,
   "id": "ef8da95b",
   "metadata": {},
   "outputs": [],
   "source": [
    "cqm = ConstrainedQuadraticModel()"
   ]
  },
  {
   "cell_type": "code",
   "execution_count": 63,
   "id": "ad78adb6",
   "metadata": {},
   "outputs": [],
   "source": [
    "job_count = len(cost_df)"
   ]
  },
  {
   "cell_type": "code",
   "execution_count": 64,
   "id": "a880577d",
   "metadata": {},
   "outputs": [],
   "source": [
    "xs = []\n",
    "for machines in range(len(cost_df.columns)):\n",
    "    x = [Binary(f'm{machines}_x{i}') for i in range(job_count)]\n",
    "    xs.extend(x)\n",
    "\n",
    "model = None\n",
    "for variable, cost in zip(np.array(cost_df).flatten(), xs):\n",
    "    if model:\n",
    "        model = model + cost * variable\n",
    "    else:\n",
    "        model = cost * variable\n",
    "cqm.set_objective(model)"
   ]
  },
  {
   "cell_type": "code",
   "execution_count": 65,
   "id": "394fb6ec",
   "metadata": {},
   "outputs": [
    {
     "data": {
      "text/plain": [
       "QuadraticModel({'m0_x0': 335.8274782608695, 'm0_x1': 159.9599304347826, 'm0_x2': 188.35060869565214, 'm0_x3': 99.97495652173913, 'm0_x4': 117.71913043478261, 'm0_x5': 159221.1884521739, 'm0_x6': 78487.56076521738, 'm0_x7': 96471.69382608694, 'm0_x8': 49054.72547826087, 'm0_x9': 60294.80864130434, 'm0_x10': 873.7241043478261, 'm0_x11': 369.07311304347826, 'm0_x12': 362.48252173913033, 'm0_x13': 230.67069565217392, 'm0_x14': 226.5515760869565, 'm0_x15': 46585.664000000004, 'm0_x16': 22726.249600000003, 'm0_x17': 27581.546000000006, 'm0_x18': 14203.906, 'm0_x19': 17238.466250000005, 'm0_x20': 782.0377043478261, 'm0_x21': 330.34351304347825, 'm1_x0': 324.4445217391304, 'm1_x1': 206.4646956521739, 'm1_x2': 202.7778260869565, 'm1_x3': 87037.90747826088, 'm1_x4': 42741.82956521739, 'm1_x5': 52293.98086956522, 'm1_x6': 26713.64347826087, 'm1_x7': 32683.73804347826, 'm1_x8': 860.0932173913044, 'm1_x9': 358.37217391304347, 'm1_x10': 343.44, 'm1_x11': 223.98260869565217, 'm1_x12': 214.65, 'm1_x13': 39946.6468173913, 'm1_x14': 19447.70963478261, 'm1_x15': 23543.116956521735, 'm1_x16': 12154.818521739131, 'm1_x17': 14714.448097826087, 'm1_x18': 673.5293217391305, 'm1_x19': 280.6372173913044, 'm1_x20': 268.944, 'm1_x21': 175.39826086956523, 'm2_x0': 168.09000000000003, 'm2_x1': 114676.08709565215, 'm2_x2': 56526.65613913043, 'm2_x3': 69475.04686956521, 'm2_x4': 35329.160086956515, 'm2_x5': 43421.904293478256, 'm2_x6': 651.3357913043478, 'm2_x7': 271.38991304347826, 'm2_x8': 260.082, 'm2_x9': 169.61869565217387, 'm2_x10': 162.55124999999998, 'm2_x11': 68406.29314782609, 'm2_x12': 33522.110469565225, 'm2_x13': 40909.46043478261, 'm2_x14': 20951.319043478263, 'm2_x15': 25568.41277173913, 'm2_x16': 714.6707478260869, 'm2_x17': 297.7794782608695, 'm2_x18': 285.37199999999996, 'm2_x19': 186.11217391304345, 'm2_x20': 178.3575, 'm2_x21': 35153.92111304348, 'm3_x0': 17079.49940869565, 'm3_x1': 20623.91008695652, 'm3_x2': 10674.68713043478, 'm3_x3': 12889.943804347826, 'm3_x4': 479.37725217391295, 'm3_x5': 199.74052173913037, 'm3_x6': 191.41799999999995, 'm3_x7': 124.83782608695648, 'm3_x8': 119.63624999999998, 'm3_x9': 149033.9595130435, 'm3_x10': 73465.79979130437, 'm3_x11': 90299.27895652175, 'm3_x12': 45916.12486956522, 'm3_x13': 56437.04934782609, 'm3_x14': 1016.6349913043479, 'm3_x15': 423.59791304347823, 'm3_x16': 405.948, 'm3_x17': 264.7486956521739, 'm3_x18': 253.71750000000003, 'm3_x19': 117514.3424, 'm3_x20': 57872.86594782608, 'm3_x21': 71051.47060869564, 'm4_x0': 36170.5412173913, 'm4_x1': 44407.16913043478, 'm4_x2': 974.7572869565217, 'm4_x3': 406.14886956521735, 'm4_x4': 389.226, 'm4_x5': 253.84304347826085, 'm4_x6': 243.26624999999999, 'm4_x7': 164060.82782608696, 'm4_x8': 80876.8612173913, 'm4_x9': 99413.81217391304, 'm4_x10': 50548.03826086956, 'm4_x11': 62133.632608695654, 'm4_x12': 1363.8049391304348, 'm4_x13': 576.0900173913044, 'm4_x14': 565.8026956521738, 'm4_x15': 360.05626086956516, 'm4_x16': 353.62668478260866, 'm4_x17': 0.384, 'm4_x18': 0.048, 'm4_x19': -0.15, 'm4_x20': 0.03, 'm4_x21': -0.09375}, {}, 0.0, {'m0_x0': 'BINARY', 'm0_x1': 'BINARY', 'm0_x2': 'BINARY', 'm0_x3': 'BINARY', 'm0_x4': 'BINARY', 'm0_x5': 'BINARY', 'm0_x6': 'BINARY', 'm0_x7': 'BINARY', 'm0_x8': 'BINARY', 'm0_x9': 'BINARY', 'm0_x10': 'BINARY', 'm0_x11': 'BINARY', 'm0_x12': 'BINARY', 'm0_x13': 'BINARY', 'm0_x14': 'BINARY', 'm0_x15': 'BINARY', 'm0_x16': 'BINARY', 'm0_x17': 'BINARY', 'm0_x18': 'BINARY', 'm0_x19': 'BINARY', 'm0_x20': 'BINARY', 'm0_x21': 'BINARY', 'm1_x0': 'BINARY', 'm1_x1': 'BINARY', 'm1_x2': 'BINARY', 'm1_x3': 'BINARY', 'm1_x4': 'BINARY', 'm1_x5': 'BINARY', 'm1_x6': 'BINARY', 'm1_x7': 'BINARY', 'm1_x8': 'BINARY', 'm1_x9': 'BINARY', 'm1_x10': 'BINARY', 'm1_x11': 'BINARY', 'm1_x12': 'BINARY', 'm1_x13': 'BINARY', 'm1_x14': 'BINARY', 'm1_x15': 'BINARY', 'm1_x16': 'BINARY', 'm1_x17': 'BINARY', 'm1_x18': 'BINARY', 'm1_x19': 'BINARY', 'm1_x20': 'BINARY', 'm1_x21': 'BINARY', 'm2_x0': 'BINARY', 'm2_x1': 'BINARY', 'm2_x2': 'BINARY', 'm2_x3': 'BINARY', 'm2_x4': 'BINARY', 'm2_x5': 'BINARY', 'm2_x6': 'BINARY', 'm2_x7': 'BINARY', 'm2_x8': 'BINARY', 'm2_x9': 'BINARY', 'm2_x10': 'BINARY', 'm2_x11': 'BINARY', 'm2_x12': 'BINARY', 'm2_x13': 'BINARY', 'm2_x14': 'BINARY', 'm2_x15': 'BINARY', 'm2_x16': 'BINARY', 'm2_x17': 'BINARY', 'm2_x18': 'BINARY', 'm2_x19': 'BINARY', 'm2_x20': 'BINARY', 'm2_x21': 'BINARY', 'm3_x0': 'BINARY', 'm3_x1': 'BINARY', 'm3_x2': 'BINARY', 'm3_x3': 'BINARY', 'm3_x4': 'BINARY', 'm3_x5': 'BINARY', 'm3_x6': 'BINARY', 'm3_x7': 'BINARY', 'm3_x8': 'BINARY', 'm3_x9': 'BINARY', 'm3_x10': 'BINARY', 'm3_x11': 'BINARY', 'm3_x12': 'BINARY', 'm3_x13': 'BINARY', 'm3_x14': 'BINARY', 'm3_x15': 'BINARY', 'm3_x16': 'BINARY', 'm3_x17': 'BINARY', 'm3_x18': 'BINARY', 'm3_x19': 'BINARY', 'm3_x20': 'BINARY', 'm3_x21': 'BINARY', 'm4_x0': 'BINARY', 'm4_x1': 'BINARY', 'm4_x2': 'BINARY', 'm4_x3': 'BINARY', 'm4_x4': 'BINARY', 'm4_x5': 'BINARY', 'm4_x6': 'BINARY', 'm4_x7': 'BINARY', 'm4_x8': 'BINARY', 'm4_x9': 'BINARY', 'm4_x10': 'BINARY', 'm4_x11': 'BINARY', 'm4_x12': 'BINARY', 'm4_x13': 'BINARY', 'm4_x14': 'BINARY', 'm4_x15': 'BINARY', 'm4_x16': 'BINARY', 'm4_x17': 'BINARY', 'm4_x18': 'BINARY', 'm4_x19': 'BINARY', 'm4_x20': 'BINARY', 'm4_x21': 'BINARY'}, dtype='float64')"
      ]
     },
     "execution_count": 65,
     "metadata": {},
     "output_type": "execute_result"
    }
   ],
   "source": [
    "cqm.objective"
   ]
  },
  {
   "cell_type": "markdown",
   "id": "1da52047",
   "metadata": {},
   "source": [
    "### must use one machine"
   ]
  },
  {
   "cell_type": "code",
   "execution_count": 66,
   "id": "f8d4249f",
   "metadata": {},
   "outputs": [],
   "source": [
    "for i in range(job_count):\n",
    "    one_machine = None\n",
    "    for j in range(i, len(xs), job_count):\n",
    "        if one_machine:\n",
    "            one_machine = one_machine + xs[j]\n",
    "        else:\n",
    "            one_machine = xs[j]\n",
    "    cqm.add_constraint( one_machine == 1)"
   ]
  },
  {
   "cell_type": "markdown",
   "id": "b074f305",
   "metadata": {},
   "source": [
    "### All paths must finish before a deadline"
   ]
  },
  {
   "cell_type": "code",
   "execution_count": 67,
   "id": "98ecb242",
   "metadata": {},
   "outputs": [],
   "source": [
    "flat_runtimes = [(runtime, name) for n, machine_runtimes in runtimes.items() for runtime, name in zip(machine_runtimes, [j.name for j in jobs])]\n",
    "\n",
    "for path in paths:\n",
    "    path_runtime = None\n",
    "    for var, (runtime, name) in zip(xs, flat_runtimes):\n",
    "        if name not in path:\n",
    "            continue\n",
    "        if path_runtime:\n",
    "            path_runtime = path_runtime + runtime * var\n",
    "        else:\n",
    "            path_runtime = runtime * var\n",
    "    cqm.add_constraint(path_runtime <= DEADLINE)"
   ]
  },
  {
   "cell_type": "code",
   "execution_count": 68,
   "id": "d8c6ccc6",
   "metadata": {
    "scrolled": false
   },
   "outputs": [
    {
     "data": {
      "text/plain": [
       "{'5bc5a6': BinaryQuadraticModel({'m0_x0': 1.0, 'm1_x0': 1.0, 'm2_x0': 1.0, 'm3_x0': 1.0, 'm4_x0': 1.0}, {}, 0.0, 'BINARY') == 1,\n",
       " '5ca37e': BinaryQuadraticModel({'m0_x1': 1.0, 'm1_x1': 1.0, 'm2_x1': 1.0, 'm3_x1': 1.0, 'm4_x1': 1.0}, {}, 0.0, 'BINARY') == 1,\n",
       " '7fa3e2': BinaryQuadraticModel({'m0_x2': 1.0, 'm1_x2': 1.0, 'm2_x2': 1.0, 'm3_x2': 1.0, 'm4_x2': 1.0}, {}, 0.0, 'BINARY') == 1,\n",
       " 'aadb18': BinaryQuadraticModel({'m0_x3': 1.0, 'm1_x3': 1.0, 'm2_x3': 1.0, 'm3_x3': 1.0, 'm4_x3': 1.0}, {}, 0.0, 'BINARY') == 1,\n",
       " '00e7f8': BinaryQuadraticModel({'m0_x4': 1.0, 'm1_x4': 1.0, 'm2_x4': 1.0, 'm3_x4': 1.0, 'm4_x4': 1.0}, {}, 0.0, 'BINARY') == 1,\n",
       " '74153f': BinaryQuadraticModel({'m0_x5': 1.0, 'm1_x5': 1.0, 'm2_x5': 1.0, 'm3_x5': 1.0, 'm4_x5': 1.0}, {}, 0.0, 'BINARY') == 1,\n",
       " 'cc45d5': BinaryQuadraticModel({'m0_x6': 1.0, 'm1_x6': 1.0, 'm2_x6': 1.0, 'm3_x6': 1.0, 'm4_x6': 1.0}, {}, 0.0, 'BINARY') == 1,\n",
       " 'd5ccdc': BinaryQuadraticModel({'m0_x7': 1.0, 'm1_x7': 1.0, 'm2_x7': 1.0, 'm3_x7': 1.0, 'm4_x7': 1.0}, {}, 0.0, 'BINARY') == 1,\n",
       " '12de41': BinaryQuadraticModel({'m0_x8': 1.0, 'm1_x8': 1.0, 'm2_x8': 1.0, 'm3_x8': 1.0, 'm4_x8': 1.0}, {}, 0.0, 'BINARY') == 1,\n",
       " '5b16ee': BinaryQuadraticModel({'m0_x9': 1.0, 'm1_x9': 1.0, 'm2_x9': 1.0, 'm3_x9': 1.0, 'm4_x9': 1.0}, {}, 0.0, 'BINARY') == 1,\n",
       " 'be0c39': BinaryQuadraticModel({'m0_x10': 1.0, 'm1_x10': 1.0, 'm2_x10': 1.0, 'm3_x10': 1.0, 'm4_x10': 1.0}, {}, 0.0, 'BINARY') == 1,\n",
       " 'da0798': BinaryQuadraticModel({'m0_x11': 1.0, 'm1_x11': 1.0, 'm2_x11': 1.0, 'm3_x11': 1.0, 'm4_x11': 1.0}, {}, 0.0, 'BINARY') == 1,\n",
       " '93e9b4': BinaryQuadraticModel({'m0_x12': 1.0, 'm1_x12': 1.0, 'm2_x12': 1.0, 'm3_x12': 1.0, 'm4_x12': 1.0}, {}, 0.0, 'BINARY') == 1,\n",
       " '5f2672': BinaryQuadraticModel({'m0_x13': 1.0, 'm1_x13': 1.0, 'm2_x13': 1.0, 'm3_x13': 1.0, 'm4_x13': 1.0}, {}, 0.0, 'BINARY') == 1,\n",
       " '88f178': BinaryQuadraticModel({'m0_x14': 1.0, 'm1_x14': 1.0, 'm2_x14': 1.0, 'm3_x14': 1.0, 'm4_x14': 1.0}, {}, 0.0, 'BINARY') == 1,\n",
       " '608238': BinaryQuadraticModel({'m0_x15': 1.0, 'm1_x15': 1.0, 'm2_x15': 1.0, 'm3_x15': 1.0, 'm4_x15': 1.0}, {}, 0.0, 'BINARY') == 1,\n",
       " '6db733': BinaryQuadraticModel({'m0_x16': 1.0, 'm1_x16': 1.0, 'm2_x16': 1.0, 'm3_x16': 1.0, 'm4_x16': 1.0}, {}, 0.0, 'BINARY') == 1,\n",
       " '48b2ed': BinaryQuadraticModel({'m0_x17': 1.0, 'm1_x17': 1.0, 'm2_x17': 1.0, 'm3_x17': 1.0, 'm4_x17': 1.0}, {}, 0.0, 'BINARY') == 1,\n",
       " '00a752': BinaryQuadraticModel({'m0_x18': 1.0, 'm1_x18': 1.0, 'm2_x18': 1.0, 'm3_x18': 1.0, 'm4_x18': 1.0}, {}, 0.0, 'BINARY') == 1,\n",
       " '0ead40': BinaryQuadraticModel({'m0_x19': 1.0, 'm1_x19': 1.0, 'm2_x19': 1.0, 'm3_x19': 1.0, 'm4_x19': 1.0}, {}, 0.0, 'BINARY') == 1,\n",
       " '6a9865': BinaryQuadraticModel({'m0_x20': 1.0, 'm1_x20': 1.0, 'm2_x20': 1.0, 'm3_x20': 1.0, 'm4_x20': 1.0}, {}, 0.0, 'BINARY') == 1,\n",
       " 'a3994f': BinaryQuadraticModel({'m0_x21': 1.0, 'm1_x21': 1.0, 'm2_x21': 1.0, 'm3_x21': 1.0, 'm4_x21': 1.0}, {}, 0.0, 'BINARY') == 1,\n",
       " '3734a9': BinaryQuadraticModel({'m0_x0': 220.93913043478258, 'm0_x2': 1883.0260869565216, 'm0_x21': 4.0, 'm1_x0': 55.234782608695646, 'm1_x2': 470.7565217391304, 'm1_x21': 1.0, 'm2_x0': 34.521739130434774, 'm2_x2': 294.2228260869565, 'm2_x21': 0.625, 'm3_x0': 0.5523478260869564, 'm3_x2': 4.707565217391304, 'm3_x21': 0.01, 'm4_x0': 0.3452173913043478, 'm4_x2': 2.942228260869565, 'm4_x21': 0.00625}, {}, 0.0, 'BINARY') <= 40000,\n",
       " 'ac94a7': BinaryQuadraticModel({'m0_x0': 220.93913043478258, 'm0_x4': 1685.4260869565217, 'm0_x21': 4.0, 'm1_x0': 55.234782608695646, 'm1_x4': 421.3565217391304, 'm1_x21': 1.0, 'm2_x0': 34.521739130434774, 'm2_x4': 263.3478260869565, 'm2_x21': 0.625, 'm3_x0': 0.5523478260869564, 'm3_x4': 4.213565217391304, 'm3_x21': 0.01, 'm4_x0': 0.3452173913043478, 'm4_x4': 2.6334782608695653, 'm4_x21': 0.00625}, {}, 0.0, 'BINARY') <= 40000,\n",
       " '3e63b1': BinaryQuadraticModel({'m0_x0': 220.93913043478258, 'm0_x6': 1990.9565217391305, 'm0_x21': 4.0, 'm1_x0': 55.234782608695646, 'm1_x6': 497.7391304347826, 'm1_x21': 1.0, 'm2_x0': 34.521739130434774, 'm2_x6': 311.0869565217391, 'm2_x21': 0.625, 'm3_x0': 0.5523478260869564, 'm3_x6': 4.977391304347826, 'm3_x21': 0.01, 'm4_x0': 0.3452173913043478, 'm4_x6': 3.110869565217391, 'm4_x21': 0.00625}, {}, 0.0, 'BINARY') <= 40000,\n",
       " '26b66a': BinaryQuadraticModel({'m0_x0': 220.93913043478258, 'm0_x8': 1559.095652173913, 'm0_x21': 4.0, 'm1_x0': 55.234782608695646, 'm1_x8': 389.7739130434783, 'm1_x21': 1.0, 'm2_x0': 34.521739130434774, 'm2_x8': 243.6086956521739, 'm2_x21': 0.625, 'm3_x0': 0.5523478260869564, 'm3_x8': 3.8977391304347826, 'm3_x21': 0.01, 'm4_x0': 0.3452173913043478, 'm4_x8': 2.436086956521739, 'm4_x21': 0.00625}, {}, 0.0, 'BINARY') <= 40000,\n",
       " '12dd09': BinaryQuadraticModel({'m0_x0': 220.93913043478258, 'm0_x10': 1507.7217391304346, 'm0_x21': 4.0, 'm1_x0': 55.234782608695646, 'm1_x10': 376.93043478260864, 'm1_x21': 1.0, 'm2_x0': 34.521739130434774, 'm2_x10': 235.58152173913038, 'm2_x21': 0.625, 'm3_x0': 0.5523478260869564, 'm3_x10': 3.7693043478260866, 'm3_x21': 0.01, 'm4_x0': 0.3452173913043478, 'm4_x10': 2.355815217391304, 'm4_x21': 0.00625}, {}, 0.0, 'BINARY') <= 40000,\n",
       " '9c3a33': BinaryQuadraticModel({'m0_x0': 220.93913043478258, 'm0_x12': 1654.3304347826083, 'm0_x21': 4.0, 'm1_x0': 55.234782608695646, 'm1_x12': 413.5826086956521, 'm1_x21': 1.0, 'm2_x0': 34.521739130434774, 'm2_x12': 258.4891304347825, 'm2_x21': 0.625, 'm3_x0': 0.5523478260869564, 'm3_x12': 4.135826086956521, 'm3_x21': 0.01, 'm4_x0': 0.3452173913043478, 'm4_x12': 2.5848913043478254, 'm4_x21': 0.00625}, {}, 0.0, 'BINARY') <= 40000,\n",
       " 'de5c5b': BinaryQuadraticModel({'m0_x0': 220.93913043478258, 'm0_x14': 1109.669565217391, 'm0_x21': 4.0, 'm1_x0': 55.234782608695646, 'm1_x14': 277.41739130434775, 'm1_x21': 1.0, 'm2_x0': 34.521739130434774, 'm2_x14': 173.38586956521732, 'm2_x21': 0.625, 'm3_x0': 0.5523478260869564, 'm3_x14': 2.7741739130434775, 'm3_x21': 0.01, 'm4_x0': 0.3452173913043478, 'm4_x14': 1.7338586956521733, 'm4_x21': 0.00625}, {}, 0.0, 'BINARY') <= 40000,\n",
       " '47fa73': BinaryQuadraticModel({'m0_x0': 220.93913043478258, 'm0_x16': 2353.3217391304347, 'm0_x21': 4.0, 'm1_x0': 55.234782608695646, 'm1_x16': 588.3304347826087, 'm1_x21': 1.0, 'm2_x0': 34.521739130434774, 'm2_x16': 367.7065217391304, 'm2_x21': 0.625, 'm3_x0': 0.5523478260869564, 'm3_x16': 5.883304347826087, 'm3_x21': 0.01, 'm4_x0': 0.3452173913043478, 'm4_x16': 3.6770652173913043, 'm4_x21': 0.00625}, {}, 0.0, 'BINARY') <= 40000,\n",
       " 'cc293c': BinaryQuadraticModel({'m0_x0': 220.93913043478258, 'm0_x18': 2256.382608695652, 'm0_x21': 4.0, 'm1_x0': 55.234782608695646, 'm1_x18': 564.095652173913, 'm1_x21': 1.0, 'm2_x0': 34.521739130434774, 'm2_x18': 352.55978260869557, 'm2_x21': 0.625, 'm3_x0': 0.5523478260869564, 'm3_x18': 5.64095652173913, 'm3_x21': 0.01, 'm4_x0': 0.3452173913043478, 'm4_x18': 3.525597826086956, 'm4_x21': 0.00625}, {}, 0.0, 'BINARY') <= 40000,\n",
       " '689131': BinaryQuadraticModel({'m0_x0': 220.93913043478258, 'm0_x20': 2939.2347826086952, 'm0_x21': 4.0, 'm1_x0': 55.234782608695646, 'm1_x20': 734.8086956521738, 'm1_x21': 1.0, 'm2_x0': 34.521739130434774, 'm2_x20': 459.25543478260863, 'm2_x21': 0.625, 'm3_x0': 0.5523478260869564, 'm3_x20': 7.348086956521738, 'm3_x21': 0.01, 'm4_x0': 0.3452173913043478, 'm4_x20': 4.592554347826086, 'm4_x21': 0.00625}, {}, 0.0, 'BINARY') <= 40000,\n",
       " '4eef9e': BinaryQuadraticModel({'m0_x1': 31195.373913043473, 'm0_x2': 1883.0260869565216, 'm0_x21': 4.0, 'm1_x1': 7798.843478260868, 'm1_x2': 470.7565217391304, 'm1_x21': 1.0, 'm2_x1': 4874.277173913042, 'm2_x2': 294.2228260869565, 'm2_x21': 0.625, 'm3_x1': 77.98843478260868, 'm3_x2': 4.707565217391304, 'm3_x21': 0.01, 'm4_x1': 48.742771739130426, 'm4_x2': 2.942228260869565, 'm4_x21': 0.00625}, {}, 0.0, 'BINARY') <= 40000,\n",
       " '31bd20': BinaryQuadraticModel({'m0_x3': 15738.400000000001, 'm0_x4': 1685.4260869565217, 'm0_x21': 4.0, 'm1_x3': 3934.6000000000004, 'm1_x4': 421.3565217391304, 'm1_x21': 1.0, 'm2_x3': 2459.125, 'm2_x4': 263.3478260869565, 'm2_x21': 0.625, 'm3_x3': 39.346000000000004, 'm3_x4': 4.213565217391304, 'm3_x21': 0.01, 'm4_x3': 24.591250000000002, 'm4_x4': 2.6334782608695653, 'm4_x21': 0.00625}, {}, 0.0, 'BINARY') <= 40000,\n",
       " '73d493': BinaryQuadraticModel({'m0_x5': 21586.782608695652, 'm0_x6': 1990.9565217391305, 'm0_x21': 4.0, 'm1_x5': 5396.695652173913, 'm1_x6': 497.7391304347826, 'm1_x21': 1.0, 'm2_x5': 3372.9347826086955, 'm2_x6': 311.0869565217391, 'm2_x21': 0.625, 'm3_x5': 53.96695652173913, 'm3_x6': 4.977391304347826, 'm3_x21': 0.01, 'm4_x5': 33.72934782608696, 'm4_x6': 3.110869565217391, 'm4_x21': 0.00625}, {}, 0.0, 'BINARY') <= 40000,\n",
       " '1f2efe': BinaryQuadraticModel({'m0_x7': 14600.38260869565, 'm0_x8': 1559.095652173913, 'm0_x21': 4.0, 'm1_x7': 3650.0956521739126, 'm1_x8': 389.7739130434783, 'm1_x21': 1.0, 'm2_x7': 2281.309782608695, 'm2_x8': 243.6086956521739, 'm2_x21': 0.625, 'm3_x7': 36.50095652173913, 'm3_x8': 3.8977391304347826, 'm3_x21': 0.01, 'm4_x7': 22.813097826086953, 'm4_x8': 2.436086956521739, 'm4_x21': 0.00625}, {}, 0.0, 'BINARY') <= 40000,\n",
       " 'd223a6': BinaryQuadraticModel({'m0_x9': 22538.53913043478, 'm0_x10': 1507.7217391304346, 'm0_x21': 4.0, 'm1_x9': 5634.634782608695, 'm1_x10': 376.93043478260864, 'm1_x21': 1.0, 'm2_x9': 3521.646739130434, 'm2_x10': 235.58152173913038, 'm2_x21': 0.625, 'm3_x9': 56.34634782608695, 'm3_x10': 3.7693043478260866, 'm3_x21': 0.01, 'm4_x9': 35.21646739130434, 'm4_x10': 2.355815217391304, 'm4_x21': 0.00625}, {}, 0.0, 'BINARY') <= 40000,\n",
       " 'd64c36': BinaryQuadraticModel({'m0_x11': 18917.66956521739, 'm0_x12': 1654.3304347826083, 'm0_x21': 4.0, 'm1_x11': 4729.417391304348, 'm1_x12': 413.5826086956521, 'm1_x21': 1.0, 'm2_x11': 2955.885869565217, 'm2_x12': 258.4891304347825, 'm2_x21': 0.625, 'm3_x11': 47.29417391304348, 'm3_x12': 4.135826086956521, 'm3_x21': 0.01, 'm4_x11': 29.558858695652173, 'm4_x12': 2.5848913043478254, 'm4_x21': 0.00625}, {}, 0.0, 'BINARY') <= 40000,\n",
       " 'd25b4e': BinaryQuadraticModel({'m0_x13': 13818.365217391303, 'm0_x14': 1109.669565217391, 'm0_x21': 4.0, 'm1_x13': 3454.591304347826, 'm1_x14': 277.41739130434775, 'm1_x21': 1.0, 'm2_x13': 2159.119565217391, 'm2_x14': 173.38586956521732, 'm2_x21': 0.625, 'm3_x13': 34.54591304347826, 'm3_x14': 2.7741739130434775, 'm3_x21': 0.01, 'm4_x13': 21.591195652173912, 'm4_x14': 1.7338586956521733, 'm4_x21': 0.00625}, {}, 0.0, 'BINARY') <= 40000,\n",
       " 'aafc32': BinaryQuadraticModel({'m0_x15': 29199.44347826087, 'm0_x16': 2353.3217391304347, 'm0_x21': 4.0, 'm1_x15': 7299.860869565217, 'm1_x16': 588.3304347826087, 'm1_x21': 1.0, 'm2_x15': 4562.413043478261, 'm2_x16': 367.7065217391304, 'm2_x21': 0.625, 'm3_x15': 72.99860869565218, 'm3_x16': 5.883304347826087, 'm3_x21': 0.01, 'm4_x15': 45.62413043478261, 'm4_x16': 3.6770652173913043, 'm4_x21': 0.00625}, {}, 0.0, 'BINARY') <= 40000,\n",
       " '8052a2': BinaryQuadraticModel({'m0_x17': 24564.03478260869, 'm0_x18': 2256.382608695652, 'm0_x21': 4.0, 'm1_x17': 6141.008695652173, 'm1_x18': 564.095652173913, 'm1_x21': 1.0, 'm2_x17': 3838.1304347826076, 'm2_x18': 352.55978260869557, 'm2_x21': 0.625, 'm3_x17': 61.410086956521724, 'm3_x18': 5.64095652173913, 'm3_x21': 0.01, 'm4_x17': 38.38130434782608, 'm4_x18': 3.525597826086956, 'm4_x21': 0.00625}, {}, 0.0, 'BINARY') <= 40000,\n",
       " '3ebcab': BinaryQuadraticModel({'m0_x19': 32043.130434782608, 'm0_x20': 2939.2347826086952, 'm0_x21': 4.0, 'm1_x19': 8010.782608695652, 'm1_x20': 734.8086956521738, 'm1_x21': 1.0, 'm2_x19': 5006.739130434782, 'm2_x20': 459.25543478260863, 'm2_x21': 0.625, 'm3_x19': 80.10782608695652, 'm3_x20': 7.348086956521738, 'm3_x21': 0.01, 'm4_x19': 50.06739130434782, 'm4_x20': 4.592554347826086, 'm4_x21': 0.00625}, {}, 0.0, 'BINARY') <= 40000}"
      ]
     },
     "execution_count": 68,
     "metadata": {},
     "output_type": "execute_result"
    }
   ],
   "source": [
    "cqm.constraints"
   ]
  },
  {
   "cell_type": "code",
   "execution_count": 69,
   "id": "cb147ec6",
   "metadata": {},
   "outputs": [],
   "source": [
    "sampler_cqm = LeapHybridCQMSampler()\n",
    "\n",
    "solution = sampler_cqm.sample_cqm(cqm)"
   ]
  },
  {
   "cell_type": "code",
   "execution_count": 70,
   "id": "47fff72c",
   "metadata": {},
   "outputs": [],
   "source": [
    "best_solution = solution.first.sample"
   ]
  },
  {
   "cell_type": "code",
   "execution_count": 71,
   "id": "e4bc625c",
   "metadata": {
    "scrolled": true
   },
   "outputs": [
    {
     "data": {
      "text/plain": [
       "{'m0_x0': 0.0,\n",
       " 'm0_x1': 0.0,\n",
       " 'm0_x10': 0.0,\n",
       " 'm0_x11': 0.0,\n",
       " 'm0_x12': 0.0,\n",
       " 'm0_x13': 1.0,\n",
       " 'm0_x14': 0.0,\n",
       " 'm0_x15': 0.0,\n",
       " 'm0_x16': 0.0,\n",
       " 'm0_x17': 0.0,\n",
       " 'm0_x18': 0.0,\n",
       " 'm0_x19': 0.0,\n",
       " 'm0_x2': 1.0,\n",
       " 'm0_x20': 0.0,\n",
       " 'm0_x21': 0.0,\n",
       " 'm0_x3': 1.0,\n",
       " 'm0_x4': 1.0,\n",
       " 'm0_x5': 0.0,\n",
       " 'm0_x6': 0.0,\n",
       " 'm0_x7': 0.0,\n",
       " 'm0_x8': 0.0,\n",
       " 'm0_x9': 0.0,\n",
       " 'm1_x0': 0.0,\n",
       " 'm1_x1': 0.0,\n",
       " 'm1_x10': 0.0,\n",
       " 'm1_x11': 1.0,\n",
       " 'm1_x12': 1.0,\n",
       " 'm1_x13': 0.0,\n",
       " 'm1_x14': 0.0,\n",
       " 'm1_x15': 0.0,\n",
       " 'm1_x16': 0.0,\n",
       " 'm1_x17': 0.0,\n",
       " 'm1_x18': 0.0,\n",
       " 'm1_x19': 0.0,\n",
       " 'm1_x2': 0.0,\n",
       " 'm1_x20': 0.0,\n",
       " 'm1_x21': 0.0,\n",
       " 'm1_x3': 0.0,\n",
       " 'm1_x4': 0.0,\n",
       " 'm1_x5': 0.0,\n",
       " 'm1_x6': 0.0,\n",
       " 'm1_x7': 0.0,\n",
       " 'm1_x8': 0.0,\n",
       " 'm1_x9': 0.0,\n",
       " 'm2_x0': 1.0,\n",
       " 'm2_x1': 0.0,\n",
       " 'm2_x10': 0.0,\n",
       " 'm2_x11': 0.0,\n",
       " 'm2_x12': 0.0,\n",
       " 'm2_x13': 0.0,\n",
       " 'm2_x14': 0.0,\n",
       " 'm2_x15': 0.0,\n",
       " 'm2_x16': 0.0,\n",
       " 'm2_x17': 0.0,\n",
       " 'm2_x18': 0.0,\n",
       " 'm2_x19': 0.0,\n",
       " 'm2_x2': 0.0,\n",
       " 'm2_x20': 0.0,\n",
       " 'm2_x21': 0.0,\n",
       " 'm2_x3': 0.0,\n",
       " 'm2_x4': 0.0,\n",
       " 'm2_x5': 0.0,\n",
       " 'm2_x6': 0.0,\n",
       " 'm2_x7': 0.0,\n",
       " 'm2_x8': 0.0,\n",
       " 'm2_x9': 1.0,\n",
       " 'm3_x0': 0.0,\n",
       " 'm3_x1': 0.0,\n",
       " 'm3_x10': 0.0,\n",
       " 'm3_x11': 0.0,\n",
       " 'm3_x12': 0.0,\n",
       " 'm3_x13': 0.0,\n",
       " 'm3_x14': 0.0,\n",
       " 'm3_x15': 0.0,\n",
       " 'm3_x16': 0.0,\n",
       " 'm3_x17': 0.0,\n",
       " 'm3_x18': 0.0,\n",
       " 'm3_x19': 0.0,\n",
       " 'm3_x2': 0.0,\n",
       " 'm3_x20': 0.0,\n",
       " 'm3_x21': 0.0,\n",
       " 'm3_x3': 0.0,\n",
       " 'm3_x4': 0.0,\n",
       " 'm3_x5': 0.0,\n",
       " 'm3_x6': 1.0,\n",
       " 'm3_x7': 1.0,\n",
       " 'm3_x8': 1.0,\n",
       " 'm3_x9': 0.0,\n",
       " 'm4_x0': 0.0,\n",
       " 'm4_x1': 0.0,\n",
       " 'm4_x10': 0.0,\n",
       " 'm4_x11': 0.0,\n",
       " 'm4_x12': 0.0,\n",
       " 'm4_x13': 0.0,\n",
       " 'm4_x14': 0.0,\n",
       " 'm4_x15': 0.0,\n",
       " 'm4_x16': 0.0,\n",
       " 'm4_x17': 1.0,\n",
       " 'm4_x18': 1.0,\n",
       " 'm4_x19': 1.0,\n",
       " 'm4_x2': 0.0,\n",
       " 'm4_x20': 1.0,\n",
       " 'm4_x21': 1.0,\n",
       " 'm4_x3': 0.0,\n",
       " 'm4_x4': 0.0,\n",
       " 'm4_x5': 0.0,\n",
       " 'm4_x6': 0.0,\n",
       " 'm4_x7': 0.0,\n",
       " 'm4_x8': 0.0,\n",
       " 'm4_x9': 0.0}"
      ]
     },
     "execution_count": 71,
     "metadata": {},
     "output_type": "execute_result"
    }
   ],
   "source": [
    "best_solution"
   ]
  },
  {
   "cell_type": "code",
   "execution_count": 72,
   "id": "b4f2e73a",
   "metadata": {},
   "outputs": [
    {
     "name": "stdout",
     "output_type": "stream",
     "text": [
      "provided_solutions: 52\n",
      "correct_solutions: 34\n"
     ]
    }
   ],
   "source": [
    "def is_correct_solution(cqm, sol):\n",
    "    return len(cqm.violations(sol, skip_satisfied = True)) == 0\n",
    "\n",
    "correct_solutions = [ s for s in solution if is_correct_solution(cqm, s)]\n",
    "\n",
    "print( f\"provided_solutions: {len(solution)}\")\n",
    "print( f\"correct_solutions: {len(correct_solutions)}\")"
   ]
  },
  {
   "cell_type": "code",
   "execution_count": 73,
   "id": "3eb083dc",
   "metadata": {},
   "outputs": [],
   "source": [
    "from parse import parse\n",
    "\n",
    "def solve_workflow(machines, jobs, solution):\n",
    "    actual_solution = {}\n",
    "\n",
    "    for k, is_used in solution.items():\n",
    "        machine, var = parse('m{}_x{}', k)\n",
    "        if is_used:\n",
    "            actual_solution[int(var)] = machines[int(machine)]\n",
    "    return actual_solution\n"
   ]
  },
  {
   "cell_type": "code",
   "execution_count": 74,
   "id": "e9745c2d",
   "metadata": {},
   "outputs": [],
   "source": [
    "machine_names = cost_df.columns\n",
    "job_names = cost_df.index"
   ]
  },
  {
   "cell_type": "code",
   "execution_count": 75,
   "id": "17a61095",
   "metadata": {},
   "outputs": [
    {
     "data": {
      "text/plain": [
       "{1: 'ZeusCpu',\n",
       " 13: 'ZeusCpu',\n",
       " 14: 'ZeusCpu',\n",
       " 2: 'ZeusCpu',\n",
       " 3: 'ZeusCpu',\n",
       " 4: 'ZeusCpu',\n",
       " 11: 'PrometeusCpu',\n",
       " 12: 'PrometeusCpu',\n",
       " 0: 'AresCpu',\n",
       " 10: 'AresCpu',\n",
       " 9: 'AresCpu',\n",
       " 5: 'PrometeusGpu',\n",
       " 6: 'PrometeusGpu',\n",
       " 7: 'PrometeusGpu',\n",
       " 8: 'PrometeusGpu',\n",
       " 15: 'AresGpu',\n",
       " 16: 'AresGpu',\n",
       " 17: 'AresGpu',\n",
       " 18: 'AresGpu',\n",
       " 19: 'AresGpu',\n",
       " 20: 'AresGpu',\n",
       " 21: 'AresGpu'}"
      ]
     },
     "execution_count": 75,
     "metadata": {},
     "output_type": "execute_result"
    }
   ],
   "source": [
    "solve_workflow(machine_names, job_names, correct_solutions[0])"
   ]
  },
  {
   "cell_type": "code",
   "execution_count": null,
   "id": "d2785536",
   "metadata": {
    "scrolled": false
   },
   "outputs": [],
   "source": []
  },
  {
   "cell_type": "code",
   "execution_count": null,
   "id": "33c0b469",
   "metadata": {},
   "outputs": [],
   "source": []
  }
 ],
 "metadata": {
  "colab": {
   "collapsed_sections": [],
   "name": "Kopia notatnika [WSP] Wfcommons.ipynb",
   "provenance": []
  },
  "kernelspec": {
   "display_name": "Python 3 (ipykernel)",
   "language": "python",
   "name": "python3"
  },
  "language_info": {
   "codemirror_mode": {
    "name": "ipython",
    "version": 3
   },
   "file_extension": ".py",
   "mimetype": "text/x-python",
   "name": "python",
   "nbconvert_exporter": "python",
   "pygments_lexer": "ipython3",
   "version": "3.8.10"
  }
 },
 "nbformat": 4,
 "nbformat_minor": 5
}
